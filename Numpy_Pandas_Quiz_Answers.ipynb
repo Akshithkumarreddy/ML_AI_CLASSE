{
  "nbformat": 4,
  "nbformat_minor": 0,
  "metadata": {
    "colab": {
      "provenance": [],
      "authorship_tag": "ABX9TyNHO3VP2EGfGPXwtUGU/1jM",
      "include_colab_link": true
    },
    "kernelspec": {
      "name": "python3",
      "display_name": "Python 3"
    },
    "language_info": {
      "name": "python"
    }
  },
  "cells": [
    {
      "cell_type": "markdown",
      "metadata": {
        "id": "view-in-github",
        "colab_type": "text"
      },
      "source": [
        "<a href=\"https://colab.research.google.com/github/Akshithkumarreddy/ML_AI_CLASSE/blob/main/Numpy_Pandas_Quiz_Answers.ipynb\" target=\"_parent\"><img src=\"https://colab.research.google.com/assets/colab-badge.svg\" alt=\"Open In Colab\"/></a>"
      ]
    },
    {
      "cell_type": "code",
      "execution_count": 5,
      "metadata": {
        "colab": {
          "base_uri": "https://localhost:8080/"
        },
        "id": "exnGmtmKVTwf",
        "outputId": "7aaadd6a-9db8-4070-d0f6-94e61d9c8955"
      },
      "outputs": [
        {
          "output_type": "stream",
          "name": "stdout",
          "text": [
            "[1 2 3] [1 2 3]\n"
          ]
        }
      ],
      "source": [
        "#Which of the following statements correctly creates a NumPy array with an explicit unsigned integer data type?\n",
        "#A) np.array([1, 2, 3], dtype=np. uint8) B) np.array([1, 2, 3], dtype='uint') C) np.array([1, 2, 3], dtype=np.int64) D) np.array([1, 2, 3], dtype=np.int8)\n",
        "\n",
        "import numpy as np\n",
        "a = np.array([1, 2, 3], dtype='uint') #array([1, 2, 3], dtype=uint64)\n",
        "b = np.array([1, 2, 3], dtype=np. uint8) #array([1, 2, 3], dtype=uint8)\n",
        "\n",
        "print(a,b)"
      ]
    },
    {
      "cell_type": "code",
      "source": [
        "#What will be the shape of arr = np.zeros((3,4,5), dtype=int)?\n",
        "#A) (3, 4, 5) B) (5, 4, 3) C) (4, 5, 3) D) Error due to invalid syntax\n",
        "\n",
        "arr = np.zeros((3,4,5), dtype=int)\n",
        "print(arr)\n",
        "arr.shape"
      ],
      "metadata": {
        "colab": {
          "base_uri": "https://localhost:8080/"
        },
        "id": "V-U2NF-nVdbm",
        "outputId": "2dcff52e-7e14-4e19-9b1c-ae430ffb2f6a"
      },
      "execution_count": 10,
      "outputs": [
        {
          "output_type": "stream",
          "name": "stdout",
          "text": [
            "[[[0 0 0 0 0]\n",
            "  [0 0 0 0 0]\n",
            "  [0 0 0 0 0]\n",
            "  [0 0 0 0 0]]\n",
            "\n",
            " [[0 0 0 0 0]\n",
            "  [0 0 0 0 0]\n",
            "  [0 0 0 0 0]\n",
            "  [0 0 0 0 0]]\n",
            "\n",
            " [[0 0 0 0 0]\n",
            "  [0 0 0 0 0]\n",
            "  [0 0 0 0 0]\n",
            "  [0 0 0 0 0]]]\n"
          ]
        },
        {
          "output_type": "execute_result",
          "data": {
            "text/plain": [
              "(3, 4, 5)"
            ]
          },
          "metadata": {},
          "execution_count": 10
        }
      ]
    },
    {
      "cell_type": "code",
      "source": [
        "#What does arr[arr > 10] return if arr = np.array([5, 15, 25, 35])?\n",
        "#A) [15, 25, 35] B) [5] C) array([15, 25, 35]) D) [25, 35]\n",
        "\n",
        "arr = np.array([5, 15, 25, 35])\n",
        "arr[arr > 10] # array([15, 25, 35])"
      ],
      "metadata": {
        "colab": {
          "base_uri": "https://localhost:8080/"
        },
        "id": "vFDcvqm7WcxU",
        "outputId": "7215afae-db16-4708-ef9f-42931e10f762"
      },
      "execution_count": 11,
      "outputs": [
        {
          "output_type": "execute_result",
          "data": {
            "text/plain": [
              "array([15, 25, 35])"
            ]
          },
          "metadata": {},
          "execution_count": 11
        }
      ]
    },
    {
      "cell_type": "code",
      "source": [
        "#What will np.sort(np.array([3, 1, 4, 1, 5, 9])) return?\n",
        "#A) [1, 1, 3, 4, 5, 9] B) [3, 1, 4, 1, 5, 9] C) [9, 5, 4, 3, 1, 1] D) [1, 3, 4, 1, 5, 9]\n",
        "\n",
        "np.sort(np.array([3, 1, 4, 1, 5, 9])) #array([1, 1, 3, 4, 5, 9])"
      ],
      "metadata": {
        "colab": {
          "base_uri": "https://localhost:8080/"
        },
        "id": "yuk-1aKJWsNN",
        "outputId": "b42b0682-14e6-45e3-e6fc-e0009b389a68"
      },
      "execution_count": 12,
      "outputs": [
        {
          "output_type": "execute_result",
          "data": {
            "text/plain": [
              "array([1, 1, 3, 4, 5, 9])"
            ]
          },
          "metadata": {},
          "execution_count": 12
        }
      ]
    },
    {
      "cell_type": "code",
      "source": [
        "#How do you perform element-wise multiplication between two NumPy arrays a and b?\n",
        "#A) np.dot (a, b) B) a @b C) a b D) np. multiply (a, b)\n",
        "\n",
        "#answer : D\n",
        "\n",
        "#A) np.dot(a, b): This performs a dot product, not element-wise multiplication.\n",
        "#B) a @ b: This operator performs matrix multiplication (also called the matrix product), not element-wise multiplication.\n",
        "#C) a b: This syntax is invalid in Python and won't work.\n",
        "#D) np.multiply(a, b): This performs element-wise multiplication between arrays a and b."
      ],
      "metadata": {
        "id": "fES9NNsYW25n"
      },
      "execution_count": null,
      "outputs": []
    },
    {
      "cell_type": "code",
      "source": [
        "#What will be the output of np. floor (np.array([2.3, 3.7, -2.8, -3.1]))?\n",
        " #A)[2, 3, -2, -3] B) [2, 4, -3, -4] C) [2.0, 3.0, 3.0, -4.0] D) [2, 3, -3, -4]\n",
        "\n",
        "np. floor (np.array([2.3, 3.7, -2.8, -3.1])) #array([ 2.,  3., -3., -4.])"
      ],
      "metadata": {
        "colab": {
          "base_uri": "https://localhost:8080/"
        },
        "id": "pbDskrRMXSSH",
        "outputId": "49651044-5796-41f9-e170-98670eb75dde"
      },
      "execution_count": 13,
      "outputs": [
        {
          "output_type": "execute_result",
          "data": {
            "text/plain": [
              "array([ 2.,  3., -3., -4.])"
            ]
          },
          "metadata": {},
          "execution_count": 13
        }
      ]
    },
    {
      "cell_type": "code",
      "source": [
        "#What is the difference between np.cumsum(arr) and np. cumprod (arr)?\n",
        "#A) np.cumsum computes the sum cumulatively, np. cumprod computes the cumulative product\n",
        "#B) np.cumsum returns the total sum, np.cumprod returns the total product\n",
        "#C) np.cumsum finds the sum, np.cumprod finds the min\n",
        "#D) Both return the same result for arrays containing only 1s\n",
        "\n",
        "#answer : A\n",
        "\n",
        "#np.cumsum(arr): This function computes the cumulative sum of the elements along a given axis.\n",
        "#It returns an array where each element is the sum of all previous elements up to that index.\n",
        "\n",
        "#np.cumprod(arr): This function computes the cumulative product of the elements along a given axis.\n",
        "#It returns an array where each element is the product of all previous elements up to that index."
      ],
      "metadata": {
        "id": "Za3OMolHXt6m"
      },
      "execution_count": null,
      "outputs": []
    },
    {
      "cell_type": "code",
      "source": [
        "#What does df.loc [1, 'Column1'] return in a Pandas DataFrame?\n",
        "#A) The value in row index 1 and column 'Column1' B) The entire row at index 1 C) The entire column 'Column1' D) The last row of the DataFrame\n",
        "\n",
        "Answer : A"
      ],
      "metadata": {
        "id": "56_HRes_YES9"
      },
      "execution_count": null,
      "outputs": []
    },
    {
      "cell_type": "code",
      "source": [
        "#What does np.argmax (arr) return?\n",
        "#A) The index of the maximum value in arr B) The maximum value in arr C) A sorted version of arr D) The index of the minimum value in arr\n",
        "\n",
        "#answer : A"
      ],
      "metadata": {
        "id": "lDymL8aLYSZS"
      },
      "execution_count": null,
      "outputs": []
    },
    {
      "cell_type": "code",
      "source": [
        "#What does np.random.choice([10, 20, 30, 40], size=3, replace=False) do?\n",
        "#A) Randomly selects 3 elements from the list [10, 20, 30, 40] without replacement B) Selects the first 3 elements from the list\n",
        "#C) Selects 3 elements with replacement D) Always returns [10, 20, 30]\n",
        "\n",
        "np.random.choice([10, 20, 30, 40], size=3, replace=False)\n",
        "\n",
        "#answer : A"
      ],
      "metadata": {
        "colab": {
          "base_uri": "https://localhost:8080/"
        },
        "id": "RZhM0MVpYfYM",
        "outputId": "9bc0c9b6-d3b8-4fc0-d01b-6c7c776d848b"
      },
      "execution_count": 19,
      "outputs": [
        {
          "output_type": "execute_result",
          "data": {
            "text/plain": [
              "array([40, 10, 30])"
            ]
          },
          "metadata": {},
          "execution_count": 19
        }
      ]
    },
    {
      "cell_type": "code",
      "source": [
        "#What will np.ravel (np.array([[1, 2, 3], [4, 5, 6]])) return?\n",
        "#A) [1, 2, 3, 4, 5, 6]\n",
        "#B) [[1, 2, 3], [4, 5, 6]]\n",
        "#C) (1, 2, 3, 4, 5, 6)\n",
        "#D) [(1, 2, 3), (4, 5, 6)]\n",
        "\n",
        "np.ravel (np.array([[1, 2, 3], [4, 5, 6]])) #array([1, 2, 3, 4, 5, 6])\n",
        "\n",
        "#The ravel() function in NumPy is used to flatten an array, returning a 1D array. It creates a flattened view of the original array whenever possible.\n",
        "#If the view is not possible, it returns a copy."
      ],
      "metadata": {
        "colab": {
          "base_uri": "https://localhost:8080/"
        },
        "id": "oQhmddvUY3-V",
        "outputId": "0544766b-e075-437f-f027-8a94835f788b"
      },
      "execution_count": 20,
      "outputs": [
        {
          "output_type": "execute_result",
          "data": {
            "text/plain": [
              "array([1, 2, 3, 4, 5, 6])"
            ]
          },
          "metadata": {},
          "execution_count": 20
        }
      ]
    },
    {
      "cell_type": "code",
      "source": [
        "#What does df.pivot (index='A', columns= 'B', values='C') do?\n",
        "#A) Reshapes the DataFrame with unique values from 'A' as rows and 'B' as columns B) Replaces NaN values in column 'C'\n",
        "#C) Removes duplicates from column 'A'\n",
        "#D) Groups by 'A' and computes the sum of 'C'\n",
        "\n",
        "#Answer : A\n",
        "\n",
        "#The pivot() function in Pandas is used to reshape the DataFrame. Specifically, it creates a new DataFrame where:\n",
        "\n",
        "#The values from column 'A' will become the row labels.\n",
        "#The values from column 'B' will become the column labels.\n",
        "#The values from column 'C' will fill the table at the intersections of the unique values from 'A' and 'B'."
      ],
      "metadata": {
        "id": "y4ncEPm5ZNho"
      },
      "execution_count": null,
      "outputs": []
    },
    {
      "cell_type": "code",
      "source": [
        "#What will be the shape of np.array([[1,2,3], [4, 5, 6]]).reshape(-1, 1)?\n",
        "#A) (6, 1)\n",
        "#B) (1, 6)\n",
        "#C) (2, 3)\n",
        "#D) (3, 2)\n",
        "\n",
        "np.array([[1,2,3], [4, 5, 6]]).reshape(-1, 1) # (6,1)"
      ],
      "metadata": {
        "colab": {
          "base_uri": "https://localhost:8080/"
        },
        "id": "ViJwpc8jZftH",
        "outputId": "348c8fcc-3d53-4b2e-d94c-927e97eb0f69"
      },
      "execution_count": 21,
      "outputs": [
        {
          "output_type": "execute_result",
          "data": {
            "text/plain": [
              "array([[1],\n",
              "       [2],\n",
              "       [3],\n",
              "       [4],\n",
              "       [5],\n",
              "       [6]])"
            ]
          },
          "metadata": {},
          "execution_count": 21
        }
      ]
    },
    {
      "cell_type": "code",
      "source": [
        "#What does np.argmin (np.array([[3, 2, 1], [6, 5, 4]]), axis=1) return?\n",
        "#A) [2, 2]\n",
        "#B) [0, 1]\n",
        "#C) [1, 2]\n",
        "#D) [2, 2, 2]\n",
        "\n",
        "#ANSWER : A"
      ],
      "metadata": {
        "id": "QxM1NWfxZtaY"
      },
      "execution_count": 23,
      "outputs": []
    },
    {
      "cell_type": "code",
      "source": [
        "#What will np.array([1, 2, 3]) + np.array([[4], [5], [6]]) return?\n",
        "#A) A 3x3 matrix with element-wise broadcasting\n",
        "#B) A 1D array\n",
        "#C) A single number representing the sum\n",
        "#D) Error due to shape mismatch\n",
        "\n",
        "np.array([1, 2, 3]) + np.array([[4], [5], [6]])"
      ],
      "metadata": {
        "colab": {
          "base_uri": "https://localhost:8080/"
        },
        "id": "L586mcz2aGQ9",
        "outputId": "c271b823-4588-40df-b01e-fc47dd0fc8be"
      },
      "execution_count": 26,
      "outputs": [
        {
          "output_type": "execute_result",
          "data": {
            "text/plain": [
              "array([[5, 6, 7],\n",
              "       [6, 7, 8],\n",
              "       [7, 8, 9]])"
            ]
          },
          "metadata": {},
          "execution_count": 26
        }
      ]
    },
    {
      "cell_type": "code",
      "source": [
        "#Which of the following functions can be used to compute the correlation coefficient of a NumPy array?\n",
        "#A) np.corrcoef() this is used for correlation coefficient\n",
        "#B) np.cov()\n",
        "#C) np.correlation ()\n",
        "#D) np. covariance()"
      ],
      "metadata": {
        "id": "AlA0Xi9zadKr"
      },
      "execution_count": null,
      "outputs": []
    },
    {
      "cell_type": "code",
      "source": [
        "#What is the correct way to find the rolling mean of a column in Pandas?\n",
        "#A) df['col'].rolling (3).mean()\n",
        "#B) df['col'].mean (rolling=3)\n",
        "#C) df.rolling_mean('col', 3)\n",
        "#D) df['col'].window (3).mean()\n",
        "\n",
        "#answer : A , The rolling() function in Pandas creates a rolling window of the specified size (in this case, 3),\n",
        "#             and then you can apply functions like mean(), sum(), or other aggregation functions to this rolling window."
      ],
      "metadata": {
        "id": "t5xCDxIRamGs"
      },
      "execution_count": null,
      "outputs": []
    },
    {
      "cell_type": "code",
      "source": [
        "#What does np.isin (np.array([1, 2, 3, 4]), [2, 3, 5]) return?\n",
        "#A) [False, True, True, False]\n",
        "#B) [True, False, False, True]\n",
        "#C) [1, 2, 3]\n",
        "#D) [True, True, False, False]\n",
        "\n",
        "np.isin (np.array([1, 2, 3, 4]), [2, 3, 5]) #array([False,  True,  True, False])"
      ],
      "metadata": {
        "colab": {
          "base_uri": "https://localhost:8080/"
        },
        "id": "mwRtROQqa1qw",
        "outputId": "ceda7598-8cce-461c-a593-590b3d783d32"
      },
      "execution_count": 27,
      "outputs": [
        {
          "output_type": "execute_result",
          "data": {
            "text/plain": [
              "array([False,  True,  True, False])"
            ]
          },
          "metadata": {},
          "execution_count": 27
        }
      ]
    },
    {
      "cell_type": "code",
      "source": [
        "#What does df ['col' ].nunique () return?\n",
        "#A) The number of unique values in 'col'  - This is correct\n",
        "#B) The count of all values in 'col'\n",
        "#C) The number of NaN values in 'col'\n",
        "#D) The mode of 'col'\n"
      ],
      "metadata": {
        "id": "ZM9f1djKbBuG"
      },
      "execution_count": null,
      "outputs": []
    },
    {
      "cell_type": "code",
      "source": [
        "#What does np.setdiff1d (np.array([1, 2, 3, 4]), np.array([2, 4, 6])) return?\n",
        "#A) [1, 3]\n",
        "#B) [2, 4]\n",
        "#C) [1, 2, 3, 4]\n",
        "#D) [6]\n",
        "\n",
        "np.setdiff1d (np.array([1, 2, 3, 4]), np.array([2, 4, 6])) #array([1, 3])"
      ],
      "metadata": {
        "colab": {
          "base_uri": "https://localhost:8080/"
        },
        "id": "H_nUZQ7SbKYl",
        "outputId": "24fc2a38-119e-4140-8b9b-87219357d1c8"
      },
      "execution_count": 29,
      "outputs": [
        {
          "output_type": "execute_result",
          "data": {
            "text/plain": [
              "array([1, 3])"
            ]
          },
          "metadata": {},
          "execution_count": 29
        }
      ]
    },
    {
      "cell_type": "code",
      "source": [
        "#What does np. flatnonzero (np.array([[0, 1], [2, 0]])) return?\n",
        "#A) [1, 2]\n",
        "#B) [0, 1, 2, 3]\n",
        "#C) [1, 2]\n",
        "#D) [1, 3]\n",
        "\n",
        "np. flatnonzero (np.array([[0, 1], [2, 0]])) #array([1, 2])"
      ],
      "metadata": {
        "colab": {
          "base_uri": "https://localhost:8080/"
        },
        "id": "guMrRLvKbdX_",
        "outputId": "8577f7ec-a2e5-48ee-c4c0-602e73852f62"
      },
      "execution_count": 30,
      "outputs": [
        {
          "output_type": "execute_result",
          "data": {
            "text/plain": [
              "array([1, 2])"
            ]
          },
          "metadata": {},
          "execution_count": 30
        }
      ]
    },
    {
      "cell_type": "code",
      "source": [
        "#What is the output of np. diag (np.array([[1, 2], [3, 4]]))?\n",
        "#A) [1, 4]\n",
        "#B) [[1, 0], [0, 4]]\n",
        "#C) [2, 3]\n",
        "#D) [[1, 2], [3, 4]]\n",
        "\n",
        "np. diag (np.array([[1, 2], [3, 4]])) #array([1, 4])"
      ],
      "metadata": {
        "colab": {
          "base_uri": "https://localhost:8080/"
        },
        "id": "hFwARceybmaj",
        "outputId": "68927b65-e498-432a-f720-e3afde4b5253"
      },
      "execution_count": 31,
      "outputs": [
        {
          "output_type": "execute_result",
          "data": {
            "text/plain": [
              "array([1, 4])"
            ]
          },
          "metadata": {},
          "execution_count": 31
        }
      ]
    },
    {
      "cell_type": "code",
      "source": [
        "#What will np.repeat (np.array([1, 2, 3]), 2) return?\n",
        "#A) [1, 1, 2, 2, 3, 3]\n",
        "#B) [1, 2, 3, 1, 2, 3]\n",
        "#C) [[1, 1], [2, 2], [3, 3]]\n",
        "#D) [1, 2, 3]\n",
        "\n",
        "np.repeat (np.array([1, 2, 3]), 2) #array([1, 1, 2, 2, 3, 3])"
      ],
      "metadata": {
        "colab": {
          "base_uri": "https://localhost:8080/"
        },
        "id": "wZrraT4bbxjO",
        "outputId": "ce23f3de-aa16-4bd7-b764-beb10577763b"
      },
      "execution_count": 32,
      "outputs": [
        {
          "output_type": "execute_result",
          "data": {
            "text/plain": [
              "array([1, 1, 2, 2, 3, 3])"
            ]
          },
          "metadata": {},
          "execution_count": 32
        }
      ]
    },
    {
      "cell_type": "code",
      "source": [
        "#What does df.drop_duplicates (subset=['A'], keep='first') do in Pandas?\n",
        "#A) Removes duplicate rows based on column 'A', keeping the first occurrence B) Drops column 'A' from the DataFrame\n",
        "#C) Removes the first occurrence of duplicates in column 'A'\n",
        "#D) Returns an error if 'A' has NaN values\n",
        "\n",
        "#Answer ; A"
      ],
      "metadata": {
        "id": "nacQkIf7b6Wp"
      },
      "execution_count": null,
      "outputs": []
    },
    {
      "cell_type": "code",
      "source": [
        "#Which function in NumPy can be used to generate an array of evenly spaced values on a logarithmic scale?\n",
        "#A) np.logspace() this is correct\n",
        "#B) np. linspace()\n",
        "#C) np.geomspace()\n",
        "#D) np.expspace()"
      ],
      "metadata": {
        "id": "9tNRslgvcFaO"
      },
      "execution_count": null,
      "outputs": []
    },
    {
      "cell_type": "code",
      "source": [
        "#What does df.iloc[:, [1, 3]].values return?\n",
        "#A) All rows from columns at index positions 1 and 3 - this is correct\n",
        "#B) The entire DataFrame\n",
        "#C) A list of column names\n",
        "#D) The first and third rows\n"
      ],
      "metadata": {
        "id": "sshOD_kgcX7w"
      },
      "execution_count": null,
      "outputs": []
    },
    {
      "cell_type": "code",
      "source": [
        "#What does np.random. permutation (5) return?\n",
        "#A) A shuffled array of [0, 1, 2, 3, 4] -\n",
        "#B) A random integer between 0 and 5\n",
        "#C) A 5x5 identity matrix\n",
        "#D) A sorted array of [0, 1, 2, 3, 4]\n",
        "\n",
        "np.random. permutation (5) #array([4, 2, 3, 0, 1])"
      ],
      "metadata": {
        "colab": {
          "base_uri": "https://localhost:8080/"
        },
        "id": "pCeuGlLXcgKw",
        "outputId": "be9ce2db-f9f0-4d7a-9b11-646e741e7565"
      },
      "execution_count": 34,
      "outputs": [
        {
          "output_type": "execute_result",
          "data": {
            "text/plain": [
              "array([4, 2, 3, 0, 1])"
            ]
          },
          "metadata": {},
          "execution_count": 34
        }
      ]
    },
    {
      "cell_type": "code",
      "source": [
        "#What will be the shape of np.array([[1, 2], [3, 4]]).T?\n",
        "#A) (2, 2)\n",
        "#B) (4, 1)\n",
        "#C) (1, 4)\n",
        "#D) (2, 4)\n",
        "\n",
        "A = np.array([[1, 2], [3, 4]]).T\n",
        "A.shape # (2, 2)"
      ],
      "metadata": {
        "colab": {
          "base_uri": "https://localhost:8080/"
        },
        "id": "qEoqVcYJcv_E",
        "outputId": "019a77c0-c15f-4277-e2a7-f11590485512"
      },
      "execution_count": 36,
      "outputs": [
        {
          "output_type": "execute_result",
          "data": {
            "text/plain": [
              "(2, 2)"
            ]
          },
          "metadata": {},
          "execution_count": 36
        }
      ]
    },
    {
      "cell_type": "code",
      "source": [
        "#What is the output of np. round (np.array([1.45, 2.55, 3.65]), decimals=1)?\n",
        "#A) [1.4, 2.6, 3.6]\n",
        "#B) [1.5, 2.5, 3.6]\n",
        "#C) [1.5, 2.6, 3.6]\n",
        "#D) [1.4, 2.5, 3.6]\n",
        "\n",
        "np. round (np.array([1.45, 2.55, 3.65]), decimals=1) #array([1.4, 2.6, 3.6])"
      ],
      "metadata": {
        "colab": {
          "base_uri": "https://localhost:8080/"
        },
        "id": "smaJRx8-c-TQ",
        "outputId": "3205853d-c553-448b-9f2e-a0959bdc5861"
      },
      "execution_count": 37,
      "outputs": [
        {
          "output_type": "execute_result",
          "data": {
            "text/plain": [
              "array([1.4, 2.6, 3.6])"
            ]
          },
          "metadata": {},
          "execution_count": 37
        }
      ]
    },
    {
      "cell_type": "code",
      "source": [
        "#What does df.fillna (df.mean()) do?\n",
        "#A) Replaces NaN values with the mean of their respective columns - This is correct answer\n",
        "#B) Removes all NaN values\n",
        "#C) Returns the mean of all columns\n",
        "#D) Fills NaN values with zero\n"
      ],
      "metadata": {
        "id": "ppPNfe0_dIWH"
      },
      "execution_count": null,
      "outputs": []
    },
    {
      "cell_type": "code",
      "source": [
        "#What does np.clip (np.array([-5, 0, 10, 15]), 0, 10) return?\n",
        "#A) [0, 0, 10, 10]\n",
        "#B) [-5, 0, 10, 15]\n",
        "#C) [0, 0, 10, 15]\n",
        "#D) [0, 0, 10, 10]\n",
        "\n",
        "np.clip (np.array([-5, 0, 10, 15]), 0, 10) #array([ 0,  0, 10, 10])\n",
        "\n",
        "#he clip() function in NumPy is used to limit the values in an array within a specified range.\n",
        "#Any values in the array that are below a given minimum will be set to the minimum\n",
        "#, and any values that are above a given maximum will be set to the maximum.\n",
        "\n",
        "#numpy.clip(a, a_min, a_max, out=None)"
      ],
      "metadata": {
        "colab": {
          "base_uri": "https://localhost:8080/"
        },
        "id": "eysCqRNYdRdy",
        "outputId": "e788e3b3-564e-45a9-976e-b4160b419acb"
      },
      "execution_count": 38,
      "outputs": [
        {
          "output_type": "execute_result",
          "data": {
            "text/plain": [
              "array([ 0,  0, 10, 10])"
            ]
          },
          "metadata": {},
          "execution_count": 38
        }
      ]
    },
    {
      "cell_type": "code",
      "source": [
        "#What does df.set_index('Column1') do in a Pandas DataFrame?\n",
        "#A) Sets 'Column1' as the index of the DataFrame\n",
        "#B) Deletes 'Column1' from the DataFrame\n",
        "#C) Sorts the DataFrame based on 'Column1'\n",
        "#D) Returns an error if 'Column1' contains NaN values\n",
        "\n",
        "#answer - A"
      ],
      "metadata": {
        "id": "QHA9ElP9drM1"
      },
      "execution_count": null,
      "outputs": []
    },
    {
      "cell_type": "code",
      "source": [
        "#What does np.expand_dims (np.array([1,2,3]), axis=0). shape return?\n",
        "#A) (1, 3)\n",
        "#B) (3, 1)\n",
        "#C) (1, 1, 3)\n",
        "#D) (3,)\n",
        "\n",
        "np.expand_dims (np.array([1,2,3]), axis=0). shape #(1, 3)"
      ],
      "metadata": {
        "colab": {
          "base_uri": "https://localhost:8080/"
        },
        "id": "eugxSWVwd7kJ",
        "outputId": "bc1d3ea6-9712-452e-c4df-7301e48988c7"
      },
      "execution_count": 39,
      "outputs": [
        {
          "output_type": "execute_result",
          "data": {
            "text/plain": [
              "(1, 3)"
            ]
          },
          "metadata": {},
          "execution_count": 39
        }
      ]
    },
    {
      "cell_type": "code",
      "source": [
        "#What does df [df['Column1'].notnull()] return?\n",
        "#A) Rows where 'Column1' is not null\n",
        "#B) Rows where 'Column1' contains NaN values\n",
        "#C) A sorted DataFrame\n",
        "#D) Only the 'Column 1' column\n",
        "\n",
        "#answer - a"
      ],
      "metadata": {
        "id": "PqBruU0yeG9c"
      },
      "execution_count": null,
      "outputs": []
    },
    {
      "cell_type": "code",
      "source": [
        "#What will np.concatenate([np.array([1,2]), np.array([3,4])], axis=0) return?\n",
        "#A) [1, 2, 3, 4]\n",
        "#B) [[1, 2], [3, 4]]\n",
        "#C) [1, 3, 2, 4]\n",
        "#D) Error due to shape mismatch\n",
        "\n",
        "np.concatenate([np.array([1,2]), np.array([3,4])], axis=0) #array([1, 2, 3, 4])"
      ],
      "metadata": {
        "colab": {
          "base_uri": "https://localhost:8080/"
        },
        "id": "JxKUNqFUePhu",
        "outputId": "b7512f38-148a-44c2-f266-ed7972c667de"
      },
      "execution_count": 40,
      "outputs": [
        {
          "output_type": "execute_result",
          "data": {
            "text/plain": [
              "array([1, 2, 3, 4])"
            ]
          },
          "metadata": {},
          "execution_count": 40
        }
      ]
    },
    {
      "cell_type": "code",
      "source": [
        "#Which function returns the index positions of non-zero elements in a NumPy array?\n",
        "#A) np. nonzero() - This is correct answer\n",
        "#B) np.where()\n",
        "#C) np. nonzero_indices()\n",
        "#D) np.index_nonzero()"
      ],
      "metadata": {
        "id": "0oovZbnTeivF"
      },
      "execution_count": null,
      "outputs": []
    },
    {
      "cell_type": "code",
      "source": [
        "#What does np. linalg.inv (np. eye (3)) return?\n",
        "#A) A 3x3 identity matrix\n",
        "#B) A zero matrix\n",
        "#C) An error\n",
        "#D) The inverse of a randomly generated 3x3 matrix\n",
        "\n",
        "np. linalg.inv (np. eye (3)) # answer - A"
      ],
      "metadata": {
        "colab": {
          "base_uri": "https://localhost:8080/"
        },
        "id": "R9o6SB-3en5Y",
        "outputId": "ee66661d-1fba-4bb8-88ea-432600e6d2e7"
      },
      "execution_count": 41,
      "outputs": [
        {
          "output_type": "execute_result",
          "data": {
            "text/plain": [
              "array([[1., 0., 0.],\n",
              "       [0., 1., 0.],\n",
              "       [0., 0., 1.]])"
            ]
          },
          "metadata": {},
          "execution_count": 41
        }
      ]
    },
    {
      "cell_type": "code",
      "source": [
        "#Which of the following functions can be used to stack NumPy arrays vertically?\n",
        "#A) np.vstack() - This is correct answer\n",
        "#B) np.concatenate() with axis=0\n",
        "#C) np.hstack()\n",
        "#D) np.column_stack()"
      ],
      "metadata": {
        "id": "_L59kaqxe1jc"
      },
      "execution_count": null,
      "outputs": []
    },
    {
      "cell_type": "code",
      "source": [
        "#What is the output of df.sort_values (by= [ 'Column1', 'Column2'], ascending [True, False])?\n",
        "#A) The DataFrame sorted by 'Column1' in ascending order and 'Column2' in descending order\n",
        "#B) The DataFrame sorted by 'Column2' in ascending order and 'Column1' in descending order\n",
        "#C) The DataFrame sorted only by 'Column1'\n",
        "#D) The DataFrame sorted only by 'Column2'\n",
        "\n",
        "#answer - A"
      ],
      "metadata": {
        "id": "QAFuNueqfByK"
      },
      "execution_count": null,
      "outputs": []
    },
    {
      "cell_type": "code",
      "source": [
        "#What does np.cov (np.array([[1,2,3], [4, 5, 6]])) compute?\n",
        "#A) The covariance matrix of the two arrays\n",
        "#B) The correlation matrix of the two arrays\n",
        "#C) The dot product of the arrays\n",
        "#D) The element-wise multiplication of the arrays\n",
        "\n",
        "#answeer -= A"
      ],
      "metadata": {
        "id": "1Fw-Nv7_fJDk"
      },
      "execution_count": null,
      "outputs": []
    },
    {
      "cell_type": "code",
      "source": [
        "#What does np.tril(np.array([[1, 2, 3], [4, 5, 6], [7, 8, 9]])) return?\n",
        "#A) A lower triangular matrix of the given array\n",
        "#B) An upper triangular matrix of the given array\n",
        "#C) A transposed version of the array\n",
        "#D) The determinant of the matrix\n",
        "\n",
        "#answer - A\n",
        "\n",
        "#np.tril() returns the lower triangular matrix of a given square matrix.\n",
        "#This function sets all elements above the main diagonal to zero, leaving the elements on and below the diagonal intact."
      ],
      "metadata": {
        "id": "pxxFEdb_fRzE"
      },
      "execution_count": null,
      "outputs": []
    },
    {
      "cell_type": "code",
      "source": [
        "#What does df.query(\"A > 5 and B < 10\") do?\n",
        "#A) Selects rows where column A is greater than 5 and column B is less than 10\n",
        "#B) Creates a new column A with values greater than 5\n",
        "#C) Filters out NaN values from columns A and B\n",
        "#D) Returns an error if A or B contain strings\n",
        "\n",
        "#Answer - A"
      ],
      "metadata": {
        "id": "17xYYCz2fftJ"
      },
      "execution_count": null,
      "outputs": []
    },
    {
      "cell_type": "code",
      "source": [
        "#What will np.meshgrid (np.array([1,2,3]), np.array([4,5])) return?\n",
        "#A) Two coordinate matrices from input arrays\n",
        "#B) The element-wise sum of two arrays\n",
        "#C) A 3D array of shape (3,2)\n",
        "#D) A single 2D array of shape (3,2)\n",
        "\n",
        "#Answer - A) Two coordinate matrices from input arrays.\n",
        "\n",
        "#The function np.meshgrid() creates coordinate grids from two input arrays. It returns two 2D arrays (coordinate matrices)\n",
        "#that correspond to the grid of coordinates formed by the combinations of the elements from the input arrays."
      ],
      "metadata": {
        "id": "l_C3UQztforN"
      },
      "execution_count": null,
      "outputs": []
    },
    {
      "cell_type": "code",
      "source": [
        "#What does df.corr() compute?\n",
        "#A) Pearson correlation coefficients between numeric columns\n",
        "#B) Covariance matrix of numeric columns\n",
        "#C) The difference between max and min values in each column\n",
        "#D) The mean squared error of numeric columns\n",
        "\n",
        "#Answer - A"
      ],
      "metadata": {
        "id": "Kxq44a8Rf6ET"
      },
      "execution_count": null,
      "outputs": []
    },
    {
      "cell_type": "code",
      "source": [
        "#What is the result of np.diff (np.array([10, 15, 25, 40]))?\n",
        "#A) [5, 10, 15]\n",
        "#B) [10, 15, 25, 40]\n",
        "#C) [5, 10, 15, 25]\n",
        "#D) [15, 25, 40]\n",
        "\n",
        "np.diff (np.array([10, 15, 25, 40])) #array([ 5, 10, 15])"
      ],
      "metadata": {
        "colab": {
          "base_uri": "https://localhost:8080/"
        },
        "id": "_BLsX7FbgDtN",
        "outputId": "2ce6a9f0-c953-4c48-8eb1-409b55f52c4c"
      },
      "execution_count": 42,
      "outputs": [
        {
          "output_type": "execute_result",
          "data": {
            "text/plain": [
              "array([ 5, 10, 15])"
            ]
          },
          "metadata": {},
          "execution_count": 42
        }
      ]
    },
    {
      "cell_type": "code",
      "source": [
        "#What does df.rolling (window=3). mean () do in Pandas?\n",
        "#A) Computes the moving average with a window size of 3\n",
        "#B) Shifts all values down by 3 rows\n",
        "#C) Computes the cumulative sum of the column\n",
        "#D) Returns an error if window size exceeds the DataFrame size\n",
        "\n",
        "# answer : A) Computes the moving average with a window size of 3.\n",
        "\n",
        "\n",
        "#df.rolling(window=3).mean() computes the rolling (or moving) mean with a window size of 3 for each column in the DataFrame.\n",
        "#The rolling() function creates a \"rolling\" view over the DataFrame, allowing you to apply various aggregation functions (such as mean, sum, etc.)\n",
        "#over a specified window of rows."
      ],
      "metadata": {
        "id": "Ip2B4kgvgQ7V"
      },
      "execution_count": null,
      "outputs": []
    },
    {
      "cell_type": "code",
      "source": [
        "#What does np.bincount (np.array([1,2,1,2,1,3])) return?\n",
        "#A) A count of occurrences of each integer in the array\n",
        "#B) A sorted version of the array\n",
        "#C) A boolean mask of elements greater than 2\n",
        "#D) The sum of all values in the array\n",
        "\n",
        "#Answer : A) A count of occurrences of each integer in the array\n",
        "\n",
        "#he function np.bincount() counts the occurrences of each non-negative integer value in a NumPy array.\n",
        "#It returns an array where the index corresponds to the integer, and the value at that index is the count of occurrences of that integer in the input array."
      ],
      "metadata": {
        "id": "jbc18MPyge_6"
      },
      "execution_count": null,
      "outputs": []
    },
    {
      "cell_type": "code",
      "source": [
        "#What will df.iloc[:, -1] return?\n",
        "#A) All rows with all columns except the last one\n",
        "#B) The last column of the DataFrame\n",
        "#C) A DataFrame with every second column removed\n",
        "#D) Only the last row of the DataFrame\n",
        "\n",
        "#answer - B) The last column of the DataFrame."
      ],
      "metadata": {
        "id": "ro3bc3dHgu6W"
      },
      "execution_count": null,
      "outputs": []
    },
    {
      "cell_type": "code",
      "source": [
        "#What is the purpose of np. cumsum(np.array([1,2,3,4]))?\n",
        "#A) Computes the cumulative sum of the array\n",
        "#B) Finds the sum of the array\n",
        "#C) Returns an array of ones with the same shape D) Computes the cumulative product\n",
        "\n",
        "#Answer : A\n"
      ],
      "metadata": {
        "id": "gEyrl9hDg3nt"
      },
      "execution_count": null,
      "outputs": []
    },
    {
      "cell_type": "code",
      "source": [
        "#What does df.pct_change () compute?\n",
        "#A) Percentage change between consecutive rows\n",
        "#B) The mean percentage of all values in the DataFrame\n",
        "#C) The percentage of missing values in the DataFrame\n",
        "#D) The difference between min and max values in the DataFrame\n",
        "\n",
        "#  Answer : A"
      ],
      "metadata": {
        "id": "W3N_lSJjhCFV"
      },
      "execution_count": null,
      "outputs": []
    }
  ]
}