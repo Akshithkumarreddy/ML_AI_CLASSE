{
  "cells": [
    {
      "cell_type": "markdown",
      "metadata": {
        "id": "view-in-github",
        "colab_type": "text"
      },
      "source": [
        "<a href=\"https://colab.research.google.com/github/Akshithkumarreddy/ML_AI_CLASSE/blob/main/5_Slicing_%26_Indexing.ipynb\" target=\"_parent\"><img src=\"https://colab.research.google.com/assets/colab-badge.svg\" alt=\"Open In Colab\"/></a>"
      ]
    },
    {
      "cell_type": "code",
      "execution_count": 1,
      "metadata": {
        "id": "lRajqUgp8tIs"
      },
      "outputs": [],
      "source": [
        "import numpy as np"
      ]
    },
    {
      "cell_type": "code",
      "execution_count": 2,
      "metadata": {
        "id": "FAkUz3E88tIt",
        "outputId": "af44632b-987a-4b4a-cf24-195752ecd6c0",
        "colab": {
          "base_uri": "https://localhost:8080/"
        }
      },
      "outputs": [
        {
          "output_type": "stream",
          "name": "stdout",
          "text": [
            "[[ 0  1  2  3  4  5  6  7  8  9]\n",
            " [10 11 12 13 14 15 16 17 18 19]\n",
            " [20 21 22 23 24 25 26 27 28 29]\n",
            " [30 31 32 33 34 35 36 37 38 39]\n",
            " [40 41 42 43 44 45 46 47 48 49]\n",
            " [50 51 52 53 54 55 56 57 58 59]\n",
            " [60 61 62 63 64 65 66 67 68 69]\n",
            " [70 71 72 73 74 75 76 77 78 79]\n",
            " [80 81 82 83 84 85 86 87 88 89]\n",
            " [90 91 92 93 94 95 96 97 98 99]]\n"
          ]
        }
      ],
      "source": [
        "arr = np.array(range(100)).reshape((10,10))\n",
        "print(arr)"
      ]
    },
    {
      "cell_type": "markdown",
      "metadata": {
        "id": "YhTZEHJC8tIt"
      },
      "source": [
        "### select an element by row and column indices"
      ]
    },
    {
      "cell_type": "code",
      "execution_count": 3,
      "metadata": {
        "id": "CBH__5iz8tIt",
        "outputId": "b2937ce5-9375-4a9f-c3e3-95724c5f04c8",
        "colab": {
          "base_uri": "https://localhost:8080/"
        }
      },
      "outputs": [
        {
          "output_type": "stream",
          "name": "stdout",
          "text": [
            "55\n",
            "55\n"
          ]
        }
      ],
      "source": [
        "print(arr[5][5])\n",
        "print(arr[5,5])"
      ]
    },
    {
      "cell_type": "markdown",
      "metadata": {
        "id": "cGKhE45k8tIu"
      },
      "source": [
        "### indexing with slicing"
      ]
    },
    {
      "cell_type": "code",
      "execution_count": 4,
      "metadata": {
        "id": "wF9GNxvF8tIu",
        "outputId": "e22ec50b-ae37-4666-c10d-f07ade0dc749",
        "colab": {
          "base_uri": "https://localhost:8080/"
        }
      },
      "outputs": [
        {
          "output_type": "stream",
          "name": "stdout",
          "text": [
            "[[14 15]\n",
            " [24 25]]\n"
          ]
        }
      ],
      "source": [
        "print(arr[1:3,4:6])\n",
        "# print(arr[1:3, 4:6])"
      ]
    },
    {
      "cell_type": "code",
      "execution_count": 6,
      "metadata": {
        "id": "fLIg8DoR8tIu",
        "outputId": "e62ccc78-54fc-44b2-8913-c8c60c1958ae",
        "colab": {
          "base_uri": "https://localhost:8080/"
        }
      },
      "outputs": [
        {
          "output_type": "stream",
          "name": "stdout",
          "text": [
            "[[[[ 0  1]\n",
            "   [ 2  3]]\n",
            "\n",
            "  [[ 4  5]\n",
            "   [ 6  7]]]\n",
            "\n",
            "\n",
            " [[[ 8  9]\n",
            "   [10 11]]\n",
            "\n",
            "  [[12 13]\n",
            "   [14 15]]]]\n",
            "[[[ 8  9]\n",
            "  [10 11]]\n",
            "\n",
            " [[12 13]\n",
            "  [14 15]]]\n"
          ]
        }
      ],
      "source": [
        "# ellipsis slicing: auto-complete the dimensions\n",
        "arr = np.array(range(16)).reshape(2,2,2,2)\n",
        "print(arr)\n",
        "# print(arr[0])\n",
        "print(arr[1])\n",
        "# equivalent to arr[0,:,:,:]\n",
        "# print(arr[0, ...])"
      ]
    },
    {
      "cell_type": "code",
      "source": [
        "# [0,1,2,3,4,5,6,7,8,9,10,11,12,13,14,15]\n",
        "arr = np.array([[[[0,1],[2,3]], [[4,5],[6,7]]], [[[8,9],[10,11]], [[12,13], [14,15]]]])\n",
        "print(arr.shape)\n",
        "print(arr[0,0,0,1])"
      ],
      "metadata": {
        "id": "F71cAN7-_ZAa",
        "outputId": "920a3f71-6ae4-405b-907d-b9abe56f0fc8",
        "colab": {
          "base_uri": "https://localhost:8080/"
        }
      },
      "execution_count": 7,
      "outputs": [
        {
          "output_type": "stream",
          "name": "stdout",
          "text": [
            "(2, 2, 2, 2)\n",
            "1\n"
          ]
        }
      ]
    },
    {
      "cell_type": "markdown",
      "metadata": {
        "id": "koEWp6Wg8tIu"
      },
      "source": [
        "### assign a scalar to a slice by broadcasting"
      ]
    },
    {
      "cell_type": "code",
      "execution_count": 9,
      "metadata": {
        "id": "78aiKYjh8tIu",
        "outputId": "1c2f22a5-66ae-4898-9517-b1a96420ac05",
        "colab": {
          "base_uri": "https://localhost:8080/"
        }
      },
      "outputs": [
        {
          "output_type": "stream",
          "name": "stdout",
          "text": [
            "[[ 0  1  2  3  4  5  6  7  8  9]\n",
            " [10 11 12 13 14 15 16 17 18 19]\n",
            " [20 21 22 23 24 25 26 27 28 29]\n",
            " [30 31 32 33 34 35 36 37 38 39]\n",
            " [40 41 42 43 44 45 46 47 48 49]\n",
            " [50 51 52 53 54 55 56 57 58 59]\n",
            " [60 61 62 63 64 65 66 67 68 69]\n",
            " [70 71 72 73 74 75 76 77 78 79]\n",
            " [80 81 82 83 84 85 86 87 88 89]\n",
            " [90 91 92 93 94 95 96 97 98 99]]\n",
            "[[  0   1   2   3   4   5   6   7   8   9]\n",
            " [100 100 100 100 100 100 100 100 100 100]\n",
            " [100 100 100 100 100 100 100 100 100 100]\n",
            " [ 30  31  32  33  34  35  36  37  38  39]\n",
            " [ 40  41  42  43  44  45  46  47  48  49]\n",
            " [ 50  51  52  53  54  55  56  57  58  59]\n",
            " [ 60  61  62  63  64  65  66  67  68  69]\n",
            " [ 70  71  72  73  74  75  76  77  78  79]\n",
            " [ 80  81  82  83  84  85  86  87  88  89]\n",
            " [ 90  91  92  93  94  95  96  97  98  99]]\n",
            "[[  0   1   2   3   4   5   6   7 100 100]\n",
            " [100 100 100 100 100 100 100 100 100 100]\n",
            " [100 100 100 100 100 100 100 100 100 100]\n",
            " [ 30  31  32  33  34  35  36  37 100 100]\n",
            " [ 40  41  42  43  44  45  46  47 100 100]\n",
            " [ 50  51  52  53  54  55  56  57 100 100]\n",
            " [ 60  61  62  63  64  65  66  67 100 100]\n",
            " [ 70  71  72  73  74  75  76  77 100 100]\n",
            " [ 80  81  82  83  84  85  86  87 100 100]\n",
            " [ 90  91  92  93  94  95  96  97 100 100]]\n",
            "[[  0   1   2   3   4   5   6   7 100 100]\n",
            " [100 100 100 100 100 100 100 100 100 100]\n",
            " [100 100 100 100 100 100 100 100 100 100]\n",
            " [ 30  31  32  33  34  35  36  37 100 100]\n",
            " [ 40  41  42  43  44  45  46  47 100 100]\n",
            " [ 50  51  52  53  54  55  56  57 100 100]\n",
            " [ 60  61  62  63  64  65  66  67 100 100]\n",
            " [ 70  71  72  73  74  75  76  77 100 100]\n",
            " [ 80  81  82  83  84  85  86  87 100 100]\n",
            " [100 100 100 100 100 100 100 100 100 100]]\n",
            "[[  0   1   2   3   4   5   6   7 100 100]\n",
            " [100 100 100 100 100 100 100 100 100 100]\n",
            " [100 100 100 100 100 100 100 100 100 100]\n",
            " [ 30  31  32  33  34  35  36  37 100 100]\n",
            " [ 40  41  42  43  44  45  46  47 100 100]\n",
            " [ 50  51  52  53  54  55  56  57 100 100]\n",
            " [ 60  61  62  63  64  65  66  67 100 100]\n",
            " [ 70  71  72  73  74  75  76  77 100 100]\n",
            " [ 80  81  82  83  84  85  86  87 100 100]\n",
            " [200 200 200 200 200 200 200 200 200 100]]\n"
          ]
        }
      ],
      "source": [
        "arr = np.array(range(100)).reshape((10,10))\n",
        "print(arr)\n",
        "arr[1:3,:] = 100    # or simply arr[1:3]\n",
        "print(arr)\n",
        "arr[:,8:] = 100\n",
        "print(arr)\n",
        "arr[-1] = 100\n",
        "print(arr)\n",
        "arr[-1,:-1]=200\n",
        "print(arr)"
      ]
    },
    {
      "cell_type": "markdown",
      "metadata": {
        "id": "5GMNzTXQ8tIu"
      },
      "source": [
        "### boolean indexing"
      ]
    },
    {
      "cell_type": "code",
      "execution_count": 10,
      "metadata": {
        "id": "RiAWPklA8tIu",
        "outputId": "f92a0259-ce44-421a-e4e2-79d9a0ebf72f",
        "colab": {
          "base_uri": "https://localhost:8080/"
        }
      },
      "outputs": [
        {
          "output_type": "stream",
          "name": "stdout",
          "text": [
            "[[ 0  1  2  3  4]\n",
            " [ 5  6  7  8  9]\n",
            " [10 11 12 13 14]\n",
            " [15 16 17 18 19]\n",
            " [20 21 22 23 24]]\n",
            "[[ 0  1  2  3  4]\n",
            " [ 5  6  7  8  9]\n",
            " [20 21 22 23 24]]\n",
            "[ 0  6 24]\n"
          ]
        }
      ],
      "source": [
        "arr1 = np.arange(25).reshape((5,5))\n",
        "print(arr1)\n",
        "bools = np.array([True, True, False, False, True])\n",
        "print(arr1[bools])\n",
        "print(arr1[bools,bools])"
      ]
    },
    {
      "cell_type": "code",
      "source": [
        "import numpy as np\n",
        "\n",
        "# Define diagonal elements\n",
        "diag_values = np.array([True, True, False, True, False])\n",
        "\n",
        "# Create a 5x5 matrix filled with False\n",
        "bool_matrix = np.zeros((5, 5), dtype=bool)\n",
        "print(bool_matrix)\n",
        "\n",
        "# Assign the diagonal values\n",
        "np.fill_diagonal(bool_matrix, diag_values)\n",
        "\n",
        "# Print the boolean matrix\n",
        "print(bool_matrix)\n"
      ],
      "metadata": {
        "id": "4jn-pBXDDk_O",
        "outputId": "0fc218d4-3a57-4604-b8fa-b6d00047048b",
        "colab": {
          "base_uri": "https://localhost:8080/"
        }
      },
      "execution_count": 12,
      "outputs": [
        {
          "output_type": "stream",
          "name": "stdout",
          "text": [
            "[[False False False False False]\n",
            " [False False False False False]\n",
            " [False False False False False]\n",
            " [False False False False False]\n",
            " [False False False False False]]\n",
            "[[ True False False False False]\n",
            " [False  True False False False]\n",
            " [False False False False False]\n",
            " [False False False  True False]\n",
            " [False False False False False]]\n"
          ]
        }
      ]
    },
    {
      "cell_type": "code",
      "source": [
        "[[ True  False False False False]\n",
        " [ False  True False False False]\n",
        " [ False False False False False]\n",
        " [ False False False  True False]\n",
        " [ False False False False False]]\n"
      ],
      "metadata": {
        "id": "_pD9iuEmEowh"
      },
      "execution_count": null,
      "outputs": []
    },
    {
      "cell_type": "code",
      "source": [
        "Diagonal Elements = [TT,TT,FF,TT,FF]"
      ],
      "metadata": {
        "id": "XHId_N0AD0i-"
      },
      "execution_count": null,
      "outputs": []
    },
    {
      "cell_type": "code",
      "source": [],
      "metadata": {
        "id": "4dnTCIVdDyhK"
      },
      "execution_count": null,
      "outputs": []
    },
    {
      "cell_type": "code",
      "execution_count": 13,
      "metadata": {
        "id": "TNscEGNa8tIu",
        "outputId": "7376a247-9ef3-478d-e474-8a5fe181a7dc",
        "colab": {
          "base_uri": "https://localhost:8080/"
        }
      },
      "outputs": [
        {
          "output_type": "stream",
          "name": "stdout",
          "text": [
            "[[10 11 12 13 14]\n",
            " [15 16 17 18 19]]\n"
          ]
        }
      ],
      "source": [
        "# negate the condition\n",
        "print(arr1[~bools])"
      ]
    },
    {
      "cell_type": "code",
      "execution_count": 14,
      "metadata": {
        "id": "KyMu913t8tIu",
        "outputId": "bc258449-febd-453b-9a5d-301a3526ff93",
        "colab": {
          "base_uri": "https://localhost:8080/"
        }
      },
      "outputs": [
        {
          "output_type": "stream",
          "name": "stdout",
          "text": [
            "[1 2 3 4 5]\n",
            "[ True False False False False] [False False False False  True]\n",
            "[10 50]\n"
          ]
        }
      ],
      "source": [
        "arr1 = np.array([10,20,30,40,50])\n",
        "arr2 = np.array([1,2,3,4,5])\n",
        "print(arr2)\n",
        "print(arr2<2, arr2>4)\n",
        "print(arr1[(arr2<2) | (arr2>4)])\n",
        "# multiple conditions\n",
        "# print(arr1[(arr2<2) | (arr2>4)])"
      ]
    },
    {
      "cell_type": "markdown",
      "metadata": {
        "id": "GJv1S9cb8tIv"
      },
      "source": [
        "### fancy indexing"
      ]
    },
    {
      "cell_type": "code",
      "execution_count": 15,
      "metadata": {
        "id": "jox1yupf8tIv",
        "outputId": "4e51f3e2-b32b-4bb2-88de-29c1fba74eb8",
        "colab": {
          "base_uri": "https://localhost:8080/"
        }
      },
      "outputs": [
        {
          "output_type": "stream",
          "name": "stdout",
          "text": [
            "[[0.42912721 0.758127   0.48664043 0.39697135 0.59772436 0.33918478\n",
            "  0.53801213 0.02560409 0.69478963 0.70800802]\n",
            " [0.90651713 0.56408398 0.04073214 0.2467336  0.22816131 0.54039766\n",
            "  0.83328128 0.11794445 0.71961422 0.66193661]\n",
            " [0.69176131 0.05780576 0.86460552 0.59022448 0.17900575 0.16141424\n",
            "  0.73251805 0.66107377 0.90020914 0.02327592]\n",
            " [0.80173454 0.59968934 0.64334621 0.70473888 0.71455996 0.93006557\n",
            "  0.07761832 0.12867511 0.06355745 0.88874999]\n",
            " [0.49503356 0.32860031 0.55493751 0.77454843 0.33334976 0.52554899\n",
            "  0.67535594 0.97946173 0.45798195 0.72498371]\n",
            " [0.50729169 0.05847085 0.56263057 0.44993155 0.59237151 0.36981995\n",
            "  0.23647934 0.34604711 0.2035229  0.0154174 ]\n",
            " [0.19542832 0.35904786 0.12754353 0.58595554 0.48911682 0.28585209\n",
            "  0.82628172 0.6443959  0.03442769 0.39427145]\n",
            " [0.95512394 0.35691595 0.65412495 0.42298107 0.26171116 0.45952605\n",
            "  0.23749553 0.58035032 0.95367068 0.60779684]\n",
            " [0.09767815 0.48345131 0.53635679 0.67495303 0.93263166 0.5069645\n",
            "  0.95649699 0.95863062 0.47299473 0.84395141]\n",
            " [0.25350053 0.52991785 0.75586008 0.66851668 0.60286381 0.3426234\n",
            "  0.4381199  0.05174546 0.6071655  0.71947074]]\n"
          ]
        }
      ],
      "source": [
        "arr = np.random.rand(10,10)\n",
        "print(arr)"
      ]
    },
    {
      "cell_type": "code",
      "execution_count": 16,
      "metadata": {
        "id": "LHZea8fu8tIv",
        "outputId": "7c3a17ec-96c2-4ccf-8961-988ec7e3e8a6",
        "colab": {
          "base_uri": "https://localhost:8080/"
        }
      },
      "outputs": [
        {
          "output_type": "stream",
          "name": "stdout",
          "text": [
            "[0.70473888 0.04073214 0.05780576]\n"
          ]
        }
      ],
      "source": [
        "# select arr[3,3], arr[1,2], arr[2,1]\n",
        "print(arr[[3,1,2], [3,2,1]])"
      ]
    },
    {
      "cell_type": "code",
      "source": [
        "print(arr[[3,1,2]][:,2])"
      ],
      "metadata": {
        "id": "OLn88VqxGcns",
        "outputId": "7c0db431-712e-4259-9d80-67cf3e854c46",
        "colab": {
          "base_uri": "https://localhost:8080/"
        }
      },
      "execution_count": 17,
      "outputs": [
        {
          "output_type": "stream",
          "name": "stdout",
          "text": [
            "[0.64334621 0.04073214 0.86460552]\n"
          ]
        }
      ]
    },
    {
      "cell_type": "code",
      "execution_count": 18,
      "metadata": {
        "id": "YMIbuiuO8tIv",
        "outputId": "54577211-550c-4d89-b5f0-149cdb3a0bcc",
        "colab": {
          "base_uri": "https://localhost:8080/"
        }
      },
      "outputs": [
        {
          "output_type": "stream",
          "name": "stdout",
          "text": [
            "[[0.07761832 0.71455996 0.06355745]\n",
            " [0.83328128 0.22816131 0.71961422]\n",
            " [0.73251805 0.17900575 0.90020914]]\n"
          ]
        }
      ],
      "source": [
        "# select rows 3,1,2 and columns 6,4,8\n",
        "print(arr[[3,1,2]][:, [6,4,8]])"
      ]
    },
    {
      "cell_type": "code",
      "source": [
        "arr = np.array(range(100)).reshape((10,10))\n",
        "print(arr)\n",
        "print(arr[[1,3,5,7,9]][:,[2,5]])"
      ],
      "metadata": {
        "id": "S4yqQ0rpHBc2",
        "outputId": "e3ec3cc1-9945-4bc0-e243-30c20c664371",
        "colab": {
          "base_uri": "https://localhost:8080/"
        }
      },
      "execution_count": 19,
      "outputs": [
        {
          "output_type": "stream",
          "name": "stdout",
          "text": [
            "[[ 0  1  2  3  4  5  6  7  8  9]\n",
            " [10 11 12 13 14 15 16 17 18 19]\n",
            " [20 21 22 23 24 25 26 27 28 29]\n",
            " [30 31 32 33 34 35 36 37 38 39]\n",
            " [40 41 42 43 44 45 46 47 48 49]\n",
            " [50 51 52 53 54 55 56 57 58 59]\n",
            " [60 61 62 63 64 65 66 67 68 69]\n",
            " [70 71 72 73 74 75 76 77 78 79]\n",
            " [80 81 82 83 84 85 86 87 88 89]\n",
            " [90 91 92 93 94 95 96 97 98 99]]\n",
            "[[12 15]\n",
            " [32 35]\n",
            " [52 55]\n",
            " [72 75]\n",
            " [92 95]]\n"
          ]
        }
      ]
    },
    {
      "cell_type": "markdown",
      "metadata": {
        "id": "RUl0n4fK8tIv"
      },
      "source": [
        "### dimension inference"
      ]
    },
    {
      "cell_type": "code",
      "execution_count": 21,
      "metadata": {
        "id": "nyJubNVJ8tIv",
        "outputId": "84ff8ef4-6202-427d-b841-dbf0b44cc628",
        "colab": {
          "base_uri": "https://localhost:8080/"
        }
      },
      "outputs": [
        {
          "output_type": "stream",
          "name": "stdout",
          "text": [
            "(16, 1)\n"
          ]
        }
      ],
      "source": [
        "# dimension inference using any negative number (usually -1)\n",
        "arr = np.array(range(16)).reshape((16,-1))\n",
        "print(arr.shape)"
      ]
    },
    {
      "cell_type": "markdown",
      "metadata": {
        "id": "TZOmEkx98tIv"
      },
      "source": [
        "### find elements/indices by conditions"
      ]
    },
    {
      "cell_type": "code",
      "execution_count": 22,
      "metadata": {
        "id": "RYxf1HfV8tIv"
      },
      "outputs": [],
      "source": [
        "arr = np.arange(16).reshape(4,4)"
      ]
    },
    {
      "cell_type": "code",
      "execution_count": 23,
      "metadata": {
        "id": "vq8hROJc8tIv",
        "outputId": "2a30ae5f-0759-4aba-8959-479a9a177818",
        "colab": {
          "base_uri": "https://localhost:8080/"
        }
      },
      "outputs": [
        {
          "output_type": "stream",
          "name": "stdout",
          "text": [
            "[[False False False False]\n",
            " [False False  True  True]\n",
            " [ True  True  True  True]\n",
            " [ True  True  True  True]]\n",
            "[ 6  7  8  9 10 11 12 13 14 15]\n"
          ]
        }
      ],
      "source": [
        "print(arr>5)\n",
        "# find the elements greater than 5 and return a flattened array\n",
        "print(arr[arr>5])    # or arr[np.where(arr>5)]"
      ]
    },
    {
      "cell_type": "code",
      "execution_count": 24,
      "metadata": {
        "id": "fevFGE888tIv",
        "outputId": "5eeb9582-6890-4ec2-8b65-929b2ea63ac9",
        "colab": {
          "base_uri": "https://localhost:8080/"
        }
      },
      "outputs": [
        {
          "output_type": "stream",
          "name": "stdout",
          "text": [
            "[[10 10 10 10]\n",
            " [10 10 -1 -1]\n",
            " [-1 -1 -1 -1]\n",
            " [-1 -1 -1 -1]]\n"
          ]
        }
      ],
      "source": [
        "# return values based on conditions\n",
        "# np.where(condition, true_return, false_return)\n",
        "print(np.where(arr>5, -1, 10))"
      ]
    },
    {
      "cell_type": "code",
      "execution_count": 25,
      "metadata": {
        "id": "ag_WtMUb8tIv",
        "outputId": "783d1450-9cc5-4ff7-f29d-87d0e59bcb0f",
        "colab": {
          "base_uri": "https://localhost:8080/"
        }
      },
      "outputs": [
        {
          "output_type": "stream",
          "name": "stdout",
          "text": [
            "[[0 0]\n",
            " [0 1]\n",
            " [0 2]\n",
            " [0 3]\n",
            " [1 0]\n",
            " [1 1]]\n"
          ]
        }
      ],
      "source": [
        "# find the indices of the elements on conditions\n",
        "print(np.argwhere(~(arr>5)))"
      ]
    }
  ],
  "metadata": {
    "kernelspec": {
      "display_name": "Python 3",
      "language": "python",
      "name": "python3"
    },
    "language_info": {
      "codemirror_mode": {
        "name": "ipython",
        "version": 3
      },
      "file_extension": ".py",
      "mimetype": "text/x-python",
      "name": "python",
      "nbconvert_exporter": "python",
      "pygments_lexer": "ipython3",
      "version": "3.6.6"
    },
    "colab": {
      "provenance": [],
      "include_colab_link": true
    }
  },
  "nbformat": 4,
  "nbformat_minor": 0
}