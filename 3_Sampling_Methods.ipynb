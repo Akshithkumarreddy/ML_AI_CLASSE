{
  "cells": [
    {
      "cell_type": "markdown",
      "metadata": {
        "id": "view-in-github",
        "colab_type": "text"
      },
      "source": [
        "<a href=\"https://colab.research.google.com/github/Akshithkumarreddy/ML_AI_CLASSE/blob/main/3_Sampling_Methods.ipynb\" target=\"_parent\"><img src=\"https://colab.research.google.com/assets/colab-badge.svg\" alt=\"Open In Colab\"/></a>"
      ]
    },
    {
      "cell_type": "code",
      "execution_count": 7,
      "metadata": {
        "id": "ih4sxcuMcN-i"
      },
      "outputs": [],
      "source": [
        "import numpy as np"
      ]
    },
    {
      "cell_type": "markdown",
      "metadata": {
        "id": "W4Qn7QogcN-j"
      },
      "source": [
        "### set seed"
      ]
    },
    {
      "cell_type": "code",
      "execution_count": 14,
      "metadata": {
        "id": "Lkq4HvFQcN-k"
      },
      "outputs": [],
      "source": [
        "np.random.seed(123)"
      ]
    },
    {
      "cell_type": "markdown",
      "metadata": {
        "id": "8brL8Hk9cN-k"
      },
      "source": [
        "### set random state which is independent from the global seed"
      ]
    },
    {
      "cell_type": "code",
      "execution_count": 15,
      "metadata": {
        "colab": {
          "base_uri": "https://localhost:8080/"
        },
        "id": "XgLMY6tCcN-k",
        "outputId": "55b4ab8f-663d-4f76-f6ab-75e28bfa3751"
      },
      "outputs": [
        {
          "output_type": "execute_result",
          "data": {
            "text/plain": [
              "array([0.88594794, 0.07791236, 0.97964616, 0.24767146, 0.75288472,\n",
              "       0.52667564, 0.90755375, 0.8840703 , 0.08926896, 0.5173446 ])"
            ]
          },
          "metadata": {},
          "execution_count": 15
        }
      ],
      "source": [
        "rs = np.random.RandomState(321)\n",
        "rs.rand(10)"
      ]
    },
    {
      "cell_type": "markdown",
      "metadata": {
        "id": "e3o4ZlRVcN-l"
      },
      "source": [
        "### generate a random sample from interval [0, 1) in a given shape"
      ]
    },
    {
      "cell_type": "code",
      "execution_count": 16,
      "metadata": {
        "colab": {
          "base_uri": "https://localhost:8080/"
        },
        "id": "RGb-jYDVcN-l",
        "outputId": "7c7e2e96-c4a8-47e2-86df-fd5aff4833aa"
      },
      "outputs": [
        {
          "output_type": "stream",
          "name": "stdout",
          "text": [
            "0.6964691855978616\n"
          ]
        }
      ],
      "source": [
        "# generate a random scalar\n",
        "print(np.random.rand())"
      ]
    },
    {
      "cell_type": "code",
      "execution_count": 25,
      "metadata": {
        "colab": {
          "base_uri": "https://localhost:8080/"
        },
        "id": "xEL3mj-ecN-l",
        "outputId": "1ae6ca6c-dc4b-4bb1-db7f-97c53e212598"
      },
      "outputs": [
        {
          "output_type": "stream",
          "name": "stdout",
          "text": [
            "[0.32295891 0.36178866 0.22826323]\n"
          ]
        }
      ],
      "source": [
        "# generate a 1-D array\n",
        "print(np.random.rand(3))"
      ]
    },
    {
      "cell_type": "code",
      "execution_count": 30,
      "metadata": {
        "colab": {
          "base_uri": "https://localhost:8080/"
        },
        "id": "kQLk0jpqcN-m",
        "outputId": "3d219e2d-1b8a-4b7e-b301-9e5fff00a6dc"
      },
      "outputs": [
        {
          "output_type": "stream",
          "name": "stdout",
          "text": [
            "[[0.08319499 0.76368284 0.24366637]\n",
            " [0.19422296 0.57245696 0.09571252]\n",
            " [0.88532683 0.62724897 0.72341636]]\n"
          ]
        }
      ],
      "source": [
        "# generate a 2-D array\n",
        "print(np.random.rand(3,3))"
      ]
    },
    {
      "cell_type": "markdown",
      "metadata": {
        "id": "GBzP1TPpcN-m"
      },
      "source": [
        "### generate a sample from the standard normal distribution (mean = 0, var = 1)"
      ]
    },
    {
      "cell_type": "code",
      "execution_count": 34,
      "metadata": {
        "colab": {
          "base_uri": "https://localhost:8080/"
        },
        "id": "Q5YeeuwlcN-m",
        "outputId": "7b777fe1-4d9d-483b-f305-479f512df615"
      },
      "outputs": [
        {
          "output_type": "stream",
          "name": "stdout",
          "text": [
            "[[ 0.18103513  1.17786194 -0.33501076]\n",
            " [ 1.03111446 -1.08456791 -1.36347154]\n",
            " [ 0.37940061 -0.37917643  0.64205469]]\n"
          ]
        }
      ],
      "source": [
        "print(np.random.randn(3,3))"
      ]
    },
    {
      "cell_type": "markdown",
      "metadata": {
        "id": "sUMSyPc4cN-m"
      },
      "source": [
        "### generate an array of random integers in a given interval [low, high)"
      ]
    },
    {
      "cell_type": "code",
      "execution_count": 43,
      "metadata": {
        "colab": {
          "base_uri": "https://localhost:8080/"
        },
        "id": "KhQ0bfl7cN-m",
        "outputId": "dbfb1b99-fc92-4999-a514-a9b6cacf2930"
      },
      "outputs": [
        {
          "output_type": "stream",
          "name": "stdout",
          "text": [
            "[5 5 6]\n"
          ]
        }
      ],
      "source": [
        "# np.ranodm.randint(low, high, size, dtype)\n",
        "print(np.random.randint(1, 10, 3, 'i8'))"
      ]
    },
    {
      "cell_type": "markdown",
      "metadata": {
        "id": "nu_7dt57cN-m"
      },
      "source": [
        "### generate an array of random floating-point numbers in the interval [0.0, 1.0)"
      ]
    },
    {
      "cell_type": "code",
      "execution_count": 50,
      "metadata": {
        "colab": {
          "base_uri": "https://localhost:8080/"
        },
        "id": "6dzeDIwHcN-m",
        "outputId": "e080f52e-3938-46b8-c3ec-c752a8ec78ff"
      },
      "outputs": [
        {
          "output_type": "stream",
          "name": "stdout",
          "text": [
            "[0.55147061 0.56232065 0.43148605 0.36056504 0.51866089 0.41165849\n",
            " 0.02945699 0.05396756 0.11702945 0.62847058]\n",
            "[0.42945962 0.12910116 0.37163583 0.7740198  0.74238635 0.06753657\n",
            " 0.70682921 0.31981183 0.98050237 0.15655755]\n",
            "[0.2042632  0.4837251  0.47783535 0.06774467 0.52412791 0.82371056\n",
            " 0.42333087 0.58119017 0.75228461 0.39554438]\n",
            "[0.46583576 0.79078103 0.80486584 0.16677372 0.77011669 0.4693528\n",
            " 0.92542108 0.33079165 0.30494205 0.4842225 ]\n"
          ]
        }
      ],
      "source": [
        "# the following methods are the same as np.random.rand()\n",
        "print(np.random.random_sample(10))\n",
        "print(np.random.random(10))\n",
        "print(np.random.ranf(10))\n",
        "print(np.random.sample(10))"
      ]
    },
    {
      "cell_type": "markdown",
      "metadata": {
        "id": "WKxpxKvZcN-m"
      },
      "source": [
        "### generate a random sample from a given 1-D array"
      ]
    },
    {
      "cell_type": "code",
      "execution_count": 51,
      "metadata": {
        "colab": {
          "base_uri": "https://localhost:8080/"
        },
        "id": "o2eK9VcRcN-m",
        "outputId": "7bd4d262-fa5f-42cc-edcd-25562f800f5f"
      },
      "outputs": [
        {
          "output_type": "stream",
          "name": "stdout",
          "text": [
            "[2 1 1 1 1 0 1 1 1 0]\n"
          ]
        }
      ],
      "source": [
        "# np.random.choice(iterable_or_int, size, replace=True, p=weights)\n",
        "print(np.random.choice(range(3), 10, replace=True, p=[0.1, 0.8, 0.1]))"
      ]
    },
    {
      "cell_type": "code",
      "execution_count": 52,
      "metadata": {
        "colab": {
          "base_uri": "https://localhost:8080/"
        },
        "id": "LO-GfKHncN-n",
        "outputId": "fdd76c69-9e60-4d68-b179-f9026034080e"
      },
      "outputs": [
        {
          "output_type": "stream",
          "name": "stdout",
          "text": [
            "[1 2 2 2 0 1 2 0 2 1]\n"
          ]
        }
      ],
      "source": [
        "print(np.random.choice(3, 10))"
      ]
    },
    {
      "cell_type": "code",
      "execution_count": 53,
      "metadata": {
        "colab": {
          "base_uri": "https://localhost:8080/"
        },
        "id": "XPaWtW_QcN-n",
        "outputId": "7798e08d-0245-4636-ca68-cbb4e5eda5e7"
      },
      "outputs": [
        {
          "output_type": "stream",
          "name": "stdout",
          "text": [
            "[3 1 2 2 1 1 2 3 2 2]\n"
          ]
        }
      ],
      "source": [
        "print(np.random.choice([1,2,3], 10))"
      ]
    },
    {
      "cell_type": "markdown",
      "metadata": {
        "id": "0_MagJa2cN-n"
      },
      "source": [
        "### shuffle an array in place"
      ]
    },
    {
      "cell_type": "code",
      "execution_count": 62,
      "metadata": {
        "colab": {
          "base_uri": "https://localhost:8080/"
        },
        "id": "ps-YabfHcN-n",
        "outputId": "cf350df2-911e-4350-a1a4-f3154685e1e2"
      },
      "outputs": [
        {
          "output_type": "stream",
          "name": "stdout",
          "text": [
            "[0 1 2 3 4 5 6 7 8 9]\n"
          ]
        }
      ],
      "source": [
        "arr = np.array(range(10))\n",
        "print(arr)"
      ]
    },
    {
      "cell_type": "code",
      "execution_count": 65,
      "metadata": {
        "colab": {
          "base_uri": "https://localhost:8080/"
        },
        "id": "-3v74ImScN-n",
        "outputId": "b8542dfc-9d89-4862-ce17-4a63d7a76bbe"
      },
      "outputs": [
        {
          "output_type": "stream",
          "name": "stdout",
          "text": [
            "[4 6 2 8 9 0 3 1 5 7]\n"
          ]
        }
      ],
      "source": [
        "np.random.shuffle(arr)\n",
        "print(arr)"
      ]
    },
    {
      "cell_type": "markdown",
      "metadata": {
        "id": "pY--0ZdpcN-n"
      },
      "source": [
        "### generate a permutation of an array"
      ]
    },
    {
      "cell_type": "code",
      "execution_count": 72,
      "metadata": {
        "colab": {
          "base_uri": "https://localhost:8080/"
        },
        "id": "rAxBOUD5cN-n",
        "outputId": "31573a23-7ed2-48cc-9fbc-f792e50e8ed9"
      },
      "outputs": [
        {
          "output_type": "stream",
          "name": "stdout",
          "text": [
            "The initial array:  [0 1 2 3 4 5 6 7 8 9]\n",
            "A permutation of the array:  [7 4 5 0 9 2 3 8 1 6]\n"
          ]
        }
      ],
      "source": [
        "# similar to np.random.shuffle(), but it returns a copy rather than making changes in place\n",
        "arr = np.array(range(10))\n",
        "print('The initial array: ', arr)\n",
        "print('A permutation of the array: ', np.random.permutation(arr))"
      ]
    }
  ],
  "metadata": {
    "kernelspec": {
      "display_name": "Python 3",
      "language": "python",
      "name": "python3"
    },
    "language_info": {
      "codemirror_mode": {
        "name": "ipython",
        "version": 3
      },
      "file_extension": ".py",
      "mimetype": "text/x-python",
      "name": "python",
      "nbconvert_exporter": "python",
      "pygments_lexer": "ipython3",
      "version": "3.6.6"
    },
    "colab": {
      "provenance": [],
      "include_colab_link": true
    }
  },
  "nbformat": 4,
  "nbformat_minor": 0
}