{
  "cells": [
    {
      "cell_type": "markdown",
      "metadata": {
        "id": "view-in-github",
        "colab_type": "text"
      },
      "source": [
        "<a href=\"https://colab.research.google.com/github/Akshithkumarreddy/ML_AI_CLASSE/blob/main/1_Create_an_Array.ipynb\" target=\"_parent\"><img src=\"https://colab.research.google.com/assets/colab-badge.svg\" alt=\"Open In Colab\"/></a>"
      ]
    },
    {
      "cell_type": "code",
      "execution_count": null,
      "metadata": {
        "id": "Dfv7hc28QUfT"
      },
      "outputs": [],
      "source": [
        "import numpy as np"
      ]
    },
    {
      "cell_type": "markdown",
      "metadata": {
        "id": "rNzX_lrPQUfX"
      },
      "source": [
        "### Create an array from an iterable\n",
        "Such as\n",
        "- ```list```\n",
        "- ```tuple```\n",
        "- ```range``` iterator\n",
        "\n",
        "Notice that not all iterables can be used to create a numpy array, such as ```set``` and ```dict```"
      ]
    },
    {
      "cell_type": "code",
      "execution_count": null,
      "metadata": {
        "id": "_g7ylGWUQUfY",
        "outputId": "7473ced0-f8f0-40d3-c116-0acd581ed26e"
      },
      "outputs": [
        {
          "name": "stdout",
          "output_type": "stream",
          "text": [
            "[1 2 3 4 5]\n"
          ]
        }
      ],
      "source": [
        "arr = np.array([1,2,3,4,5])\n",
        "print(arr)"
      ]
    },
    {
      "cell_type": "code",
      "execution_count": null,
      "metadata": {
        "id": "GSHeNmM6QUfZ",
        "outputId": "1f3dc6b8-6594-40ca-c817-bb11f8a20a39"
      },
      "outputs": [
        {
          "name": "stdout",
          "output_type": "stream",
          "text": [
            "[1 2 3 4 5]\n"
          ]
        }
      ],
      "source": [
        "arr = np.array((1,2,3,4,5))\n",
        "print(arr)"
      ]
    },
    {
      "cell_type": "code",
      "execution_count": null,
      "metadata": {
        "id": "1jq_LTrFQUfa",
        "outputId": "2d6dc5cd-d32a-4522-d5b7-43bb887bd453"
      },
      "outputs": [
        {
          "name": "stdout",
          "output_type": "stream",
          "text": [
            "[0 1 2 3 4 5 6 7 8 9]\n"
          ]
        }
      ],
      "source": [
        "arr = np.array(range(10))\n",
        "print(arr)"
      ]
    },
    {
      "cell_type": "markdown",
      "metadata": {
        "id": "IxZe0vRQQUfa"
      },
      "source": [
        "### Create an array with specified data type"
      ]
    },
    {
      "cell_type": "code",
      "execution_count": null,
      "metadata": {
        "id": "PDDLE3V8QUfa",
        "outputId": "3a036007-3f64-47a1-9b75-2dc75fbf2b2a"
      },
      "outputs": [
        {
          "name": "stdout",
          "output_type": "stream",
          "text": [
            "[[1 2 3]\n",
            " [4 5 6]]\n",
            "Data Type: int16\n"
          ]
        }
      ],
      "source": [
        "arr = np.array([[1,2,3], [4,5,6]], dtype='i2')\n",
        "print(arr)\n",
        "print('Data Type: ' + str(arr.dtype))"
      ]
    },
    {
      "cell_type": "markdown",
      "metadata": {
        "id": "xWysYoWUQUfb"
      },
      "source": [
        "### Create an aray within specified range\n",
        "```np.arange()``` method can be used to replace ```np.array(range())``` method"
      ]
    },
    {
      "cell_type": "code",
      "execution_count": null,
      "metadata": {
        "id": "SRYyrzHtQUfb",
        "outputId": "1108911e-d56f-490e-f477-19b715c5b9d8"
      },
      "outputs": [
        {
          "name": "stdout",
          "output_type": "stream",
          "text": [
            "[ 0  2  4  6  8 10 12 14 16 18]\n"
          ]
        }
      ],
      "source": [
        "# np.arange(start, stop, step)\n",
        "arr = np.arange(0, 20, 2)\n",
        "print(arr)"
      ]
    },
    {
      "cell_type": "markdown",
      "metadata": {
        "id": "hRX43A5UQUfb"
      },
      "source": [
        "### Create an array of evenly spaced numbers within specified range\n",
        "```np.linspace(start, stop, num_of_elements, endpoint=True, retstep=False)``` has 5 parameters:\n",
        "- ```start```: start number (inclusive)\n",
        "- ```stop```: end number (inclusive unless ```endpoint``` set to ```False```)\n",
        "- ```num_of_elements```: number of elements contained in the array\n",
        "- ```endpoint```: boolean value representing whether the ```stop``` number is inclusive or not\n",
        "- ```retstep```: boolean value representing whether to return the step size"
      ]
    },
    {
      "cell_type": "code",
      "execution_count": null,
      "metadata": {
        "id": "H00dZ1GKQUfc",
        "outputId": "383ae9a8-39f6-44c6-85c4-610f8420e440"
      },
      "outputs": [
        {
          "name": "stdout",
          "output_type": "stream",
          "text": [
            "[0.    0.625 1.25  1.875 2.5   3.125 3.75  4.375]\n",
            "The step size is 0.625\n"
          ]
        }
      ],
      "source": [
        "arr, step_size = np.linspace(0, 5, 8, endpoint=False, retstep=True)\n",
        "print(arr)\n",
        "print('The step size is ' + str(step_size))"
      ]
    },
    {
      "cell_type": "markdown",
      "metadata": {
        "id": "beyIPWayQUfc"
      },
      "source": [
        "### Create an array of random values of given shape\n",
        "```np.random.rand()``` method returns values in the range [0,1)"
      ]
    },
    {
      "cell_type": "code",
      "execution_count": null,
      "metadata": {
        "id": "XL3YpoZEQUfc",
        "outputId": "ad2e2573-42f7-4b98-96cb-051528a26cae"
      },
      "outputs": [
        {
          "name": "stdout",
          "output_type": "stream",
          "text": [
            "[[9.73081534e-01 7.63102228e-01 8.35216521e-02]\n",
            " [1.06040873e-02 8.12409335e-01 3.48074349e-01]\n",
            " [9.32181543e-01 3.51751631e-06 8.69013365e-01]]\n"
          ]
        }
      ],
      "source": [
        "arr = np.random.rand(3, 3)\n",
        "print(arr)"
      ]
    },
    {
      "cell_type": "markdown",
      "metadata": {
        "id": "ftv7fsaCQUfc"
      },
      "source": [
        "### Create an array of zeros of given shape\n",
        "- ```np.zeros()```: create array of all zeros in given shape\n",
        "- ```np.zeros_like()```: create array of all zeros with the same shape and data type as the given input array"
      ]
    },
    {
      "cell_type": "code",
      "execution_count": null,
      "metadata": {
        "id": "KMgWcA7tQUfd",
        "outputId": "8e62397d-7601-4584-d8b2-14e1949d2ff7"
      },
      "outputs": [
        {
          "name": "stdout",
          "output_type": "stream",
          "text": [
            "[[0. 0. 0.]\n",
            " [0. 0. 0.]]\n"
          ]
        }
      ],
      "source": [
        "zeros = np.zeros((2,3))\n",
        "print(zeros)"
      ]
    },
    {
      "cell_type": "code",
      "execution_count": null,
      "metadata": {
        "id": "IcgT1cKgQUfd",
        "outputId": "082bd324-3747-4a09-e920-567cf33a3293"
      },
      "outputs": [
        {
          "name": "stdout",
          "output_type": "stream",
          "text": [
            "[[0.+0.j 0.+0.j]\n",
            " [0.+0.j 0.+0.j]\n",
            " [0.+0.j 0.+0.j]]\n",
            "Data Type: complex64\n"
          ]
        }
      ],
      "source": [
        "arr = np.array([[1,2], [3,4],[5,6]], dtype=np.complex64)\n",
        "zeros = np.zeros_like(arr)\n",
        "print(zeros)\n",
        "print('Data Type: ' + str(zeros.dtype))"
      ]
    },
    {
      "cell_type": "markdown",
      "metadata": {
        "id": "u3FLieoKQUfd"
      },
      "source": [
        "### Create an array of ones of given shape\n",
        "- ```np.ones()```: create array of all ones in given shape\n",
        "- ```np.ones_like()```: create array of all ones with the same shape and data type as the given input array"
      ]
    },
    {
      "cell_type": "code",
      "execution_count": null,
      "metadata": {
        "id": "O4TloCWpQUfe",
        "outputId": "7d8ed717-8cb2-4374-da85-e940f4bd21f5"
      },
      "outputs": [
        {
          "name": "stdout",
          "output_type": "stream",
          "text": [
            "[[1. 1.]\n",
            " [1. 1.]\n",
            " [1. 1.]]\n"
          ]
        }
      ],
      "source": [
        "ones = np.ones((3,2))\n",
        "print(ones)"
      ]
    },
    {
      "cell_type": "code",
      "execution_count": null,
      "metadata": {
        "id": "9wDjFL-UQUfe",
        "outputId": "4d7611ee-ac10-434d-d48a-e8b24b9fa81a"
      },
      "outputs": [
        {
          "name": "stdout",
          "output_type": "stream",
          "text": [
            "[[1 1 1]\n",
            " [1 1 1]]\n",
            "Data Type: int32\n"
          ]
        }
      ],
      "source": [
        "arr = [[1,2,3], [4,5,6]]\n",
        "ones = np.ones_like(arr)\n",
        "print(ones)\n",
        "print('Data Type: ' + str(ones.dtype))"
      ]
    },
    {
      "cell_type": "markdown",
      "metadata": {
        "id": "-13JNLKDQUfe"
      },
      "source": [
        "### Create an empty array of given shape\n",
        "- ```np.empty()```: create array of empty values in given shape\n",
        "- ```np.empty_like()```: create array of empty values with the same shape and data type as the given input array\n",
        "\n",
        "Notice that the initial values are not necessarily set to zeroes.\n",
        "\n",
        "They are just some garbage values in random memory addresses."
      ]
    },
    {
      "cell_type": "code",
      "execution_count": null,
      "metadata": {
        "id": "R71Cb9QkQUfe",
        "outputId": "a7324d6a-7e18-4d3e-e5ad-36f9e6215fe0"
      },
      "outputs": [
        {
          "name": "stdout",
          "output_type": "stream",
          "text": [
            "[[6.23042070e-307 4.67296746e-307 1.69121096e-306 7.56605919e-307\n",
            "  1.89146896e-307]\n",
            " [7.56571288e-307 3.11525958e-307 1.24610723e-306 1.33511969e-306\n",
            "  1.86921143e-306]\n",
            " [1.29060531e-306 8.45599366e-307 7.56593017e-307 1.11261027e-306\n",
            "  1.11261502e-306]\n",
            " [1.42410839e-306 7.56597770e-307 6.23059726e-307 1.42419530e-306\n",
            "  7.56602523e-307]\n",
            " [1.29061821e-306 1.11260144e-306 6.89812281e-307 2.22522596e-306\n",
            "  2.56761491e-312]]\n"
          ]
        }
      ],
      "source": [
        "empty = np.empty((5,5))\n",
        "print(empty)"
      ]
    },
    {
      "cell_type": "code",
      "execution_count": null,
      "metadata": {
        "id": "YU3SpsQ9QUff",
        "outputId": "a3e895a1-ab05-4a9d-fedb-9f50b295a617"
      },
      "outputs": [
        {
          "name": "stdout",
          "output_type": "stream",
          "text": [
            "[[1065353216 1073741824 1077936128]\n",
            " [1082130432 1084227584 1086324736]]\n",
            "Data Type: int64\n"
          ]
        }
      ],
      "source": [
        "arr = np.array([[1,2,3], [4,5,6]], dtype=np.int64)\n",
        "empty = np.empty_like(arr)\n",
        "print(empty)\n",
        "print('Data Type: ' + str(empty.dtype))"
      ]
    },
    {
      "cell_type": "markdown",
      "metadata": {
        "id": "97Ed843BQUff"
      },
      "source": [
        "### Create an array of constant values of given shape  \n",
        "- ```np.full()```: create array of constant values in given shape\n",
        "- ```np.full_like()```: create array of constant values with the same shape and data type as the given input array"
      ]
    },
    {
      "cell_type": "code",
      "execution_count": null,
      "metadata": {
        "id": "fzjkF5U_QUff",
        "outputId": "fe3ba5f8-7a98-4d05-bb6a-f2df95869df6"
      },
      "outputs": [
        {
          "name": "stdout",
          "output_type": "stream",
          "text": [
            "[[5 5 5 5]\n",
            " [5 5 5 5]\n",
            " [5 5 5 5]\n",
            " [5 5 5 5]]\n"
          ]
        }
      ],
      "source": [
        "full = np.full((4,4), 5)\n",
        "print(full)"
      ]
    },
    {
      "cell_type": "code",
      "execution_count": null,
      "metadata": {
        "id": "kIsXAMwPQUff",
        "outputId": "d13d8af4-3d4c-4f63-c621-1318397bae46"
      },
      "outputs": [
        {
          "name": "stdout",
          "output_type": "stream",
          "text": [
            "[[5. 5.]\n",
            " [5. 5.]]\n",
            "Data Type: float64\n"
          ]
        }
      ],
      "source": [
        "arr = np.array([[1,2], [3,4]], dtype=np.float64)\n",
        "full = np.full_like(arr, 5)\n",
        "print(full)\n",
        "print('Data Type: ' + str(full.dtype))"
      ]
    },
    {
      "cell_type": "markdown",
      "metadata": {
        "id": "n8eM-9RyQUff"
      },
      "source": [
        "### Create an array in a repetitive manner\n",
        "- ```np.repeat(iterable, reps, axis=None)```: repeat each element by n times\n",
        "    - ```iterable```: input array\n",
        "    - ```reps```: number of repetitions\n",
        "    - ```axis```: which axis to repeat along, default is ```None``` which will flatten the input array and then repeat\n",
        "- ```np.tile()```: repeat the whole array by n times\n",
        "    - ```iterable```: input array\n",
        "    - ```reps```: number of repetitions, it can be a tuple to represent repetitions along x-axis and y-axis"
      ]
    },
    {
      "cell_type": "code",
      "execution_count": null,
      "metadata": {
        "id": "iNpAwdNXQUfg",
        "outputId": "25dda966-c3ad-4fb7-8379-c9acf670def9"
      },
      "outputs": [
        {
          "name": "stdout",
          "output_type": "stream",
          "text": [
            "[0 0 0 1 1 1 2 2 2 3 3 3 4 4 4 5 5 5]\n"
          ]
        }
      ],
      "source": [
        "# No axis specified, then flatten the input array first and repeat\n",
        "arr = [[0, 1, 2], [3, 4, 5]]\n",
        "print(np.repeat(arr, 3))"
      ]
    },
    {
      "cell_type": "code",
      "execution_count": null,
      "metadata": {
        "id": "FeFEtCinQUfg",
        "outputId": "d8a58249-6a6b-40e2-a200-3d92e94f8364"
      },
      "outputs": [
        {
          "name": "stdout",
          "output_type": "stream",
          "text": [
            "[[0 1 2]\n",
            " [0 1 2]\n",
            " [0 1 2]\n",
            " [3 4 5]\n",
            " [3 4 5]\n",
            " [3 4 5]]\n"
          ]
        }
      ],
      "source": [
        "# An example of repeating along x-axis\n",
        "arr = [[0, 1, 2], [3, 4, 5]]\n",
        "print(np.repeat(arr, 3, axis=0))"
      ]
    },
    {
      "cell_type": "code",
      "execution_count": null,
      "metadata": {
        "id": "89x_mW3aQUfg",
        "outputId": "c005ca78-3f7a-4072-f2b3-f61303f20fa3"
      },
      "outputs": [
        {
          "name": "stdout",
          "output_type": "stream",
          "text": [
            "[[0 0 0 1 1 1 2 2 2]\n",
            " [3 3 3 4 4 4 5 5 5]]\n"
          ]
        }
      ],
      "source": [
        "# An example of repeating along y-axis\n",
        "arr = [[0, 1, 2], [3, 4, 5]]\n",
        "print(np.repeat(arr, 3, axis=1))"
      ]
    },
    {
      "cell_type": "code",
      "execution_count": null,
      "metadata": {
        "id": "9ni0dxt8QUfg",
        "outputId": "c23ec0eb-9a62-4089-c197-a0774d3afd61"
      },
      "outputs": [
        {
          "name": "stdout",
          "output_type": "stream",
          "text": [
            "[0 1 2 0 1 2 0 1 2]\n"
          ]
        }
      ],
      "source": [
        "# Repeat the whole array by a specified number of times\n",
        "arr = [0, 1, 2]\n",
        "print(np.tile(arr, 3))"
      ]
    },
    {
      "cell_type": "code",
      "execution_count": null,
      "metadata": {
        "id": "mnPxs-C3QUfh",
        "outputId": "e54e3e6c-adcd-4c33-8518-68cf9299c2b2"
      },
      "outputs": [
        {
          "name": "stdout",
          "output_type": "stream",
          "text": [
            "[[0 1 2 0 1 2]\n",
            " [0 1 2 0 1 2]]\n"
          ]
        }
      ],
      "source": [
        "# Repeat along specified axes\n",
        "print(np.tile(arr, (2,2)))"
      ]
    },
    {
      "cell_type": "markdown",
      "metadata": {
        "id": "DfN-9xZ1QUfh"
      },
      "source": [
        "### Create an identity matrix of given size\n",
        "- ```np.eye(size, k=0)```: create an identity matrix of given size\n",
        "    - ```size```: the size of the identity matrix\n",
        "    - ```k```: the diagonal offset\n",
        "- ```np.identity()```: same as ```np.eye()``` but does not carry parameters"
      ]
    },
    {
      "cell_type": "code",
      "execution_count": null,
      "metadata": {
        "id": "242-cX_EQUfh",
        "outputId": "29b9b65c-d3ef-4f7e-ef7a-bee5df15956a"
      },
      "outputs": [
        {
          "name": "stdout",
          "output_type": "stream",
          "text": [
            "[[1. 0. 0. 0. 0.]\n",
            " [0. 1. 0. 0. 0.]\n",
            " [0. 0. 1. 0. 0.]\n",
            " [0. 0. 0. 1. 0.]\n",
            " [0. 0. 0. 0. 1.]]\n"
          ]
        }
      ],
      "source": [
        "identity_matrix = np.eye(5)\n",
        "print(identity_matrix)"
      ]
    },
    {
      "cell_type": "code",
      "execution_count": null,
      "metadata": {
        "id": "vLH3g_DJQUfh",
        "outputId": "9cbf8759-638e-4a24-ae7b-2bb7494f5b64"
      },
      "outputs": [
        {
          "name": "stdout",
          "output_type": "stream",
          "text": [
            "[[0. 0. 0. 0. 0.]\n",
            " [1. 0. 0. 0. 0.]\n",
            " [0. 1. 0. 0. 0.]\n",
            " [0. 0. 1. 0. 0.]\n",
            " [0. 0. 0. 1. 0.]]\n"
          ]
        }
      ],
      "source": [
        "# An example of diagonal offset\n",
        "identity_matrix = np.eye(5, k=-1)\n",
        "print(identity_matrix)"
      ]
    },
    {
      "cell_type": "code",
      "execution_count": null,
      "metadata": {
        "id": "KwAguDe_QUfi",
        "outputId": "b0988463-3eee-4165-f27c-e224bbaf8ff3"
      },
      "outputs": [
        {
          "name": "stdout",
          "output_type": "stream",
          "text": [
            "[[1. 0. 0. 0. 0.]\n",
            " [0. 1. 0. 0. 0.]\n",
            " [0. 0. 1. 0. 0.]\n",
            " [0. 0. 0. 1. 0.]\n",
            " [0. 0. 0. 0. 1.]]\n"
          ]
        }
      ],
      "source": [
        "identity_matrix = np.identity(5)\n",
        "print(identity_matrix)"
      ]
    },
    {
      "cell_type": "markdown",
      "metadata": {
        "id": "eIDOxlSWQUfi"
      },
      "source": [
        "### Create an array with given values on the diagonal"
      ]
    },
    {
      "cell_type": "code",
      "execution_count": null,
      "metadata": {
        "id": "orRpN-E5QUfi",
        "outputId": "423d5f46-f006-4b96-9889-a42995757b94"
      },
      "outputs": [
        {
          "name": "stdout",
          "output_type": "stream",
          "text": [
            "[[0.04481892 0.32920508 0.09746329 0.88717729 0.73704537]\n",
            " [0.99842459 0.3842842  0.55263992 0.76554596 0.55017239]\n",
            " [0.48540154 0.85297201 0.82429168 0.27125055 0.79634355]\n",
            " [0.41327049 0.68932437 0.10586385 0.48118436 0.476337  ]\n",
            " [0.05556156 0.27141898 0.11705936 0.83691925 0.49439961]]\n",
            "Values on the diagonal: [0.04481892 0.3842842  0.82429168 0.48118436 0.49439961]\n"
          ]
        }
      ],
      "source": [
        "arr = np.random.rand(5,5)\n",
        "print(arr)\n",
        "# Extract values on the diagonal\n",
        "print('Values on the diagonal: ' + str(np.diag(arr)))"
      ]
    },
    {
      "cell_type": "code",
      "execution_count": null,
      "metadata": {
        "id": "-qGUrmGFQUfj",
        "outputId": "2c90d857-9168-4c4b-d3cf-213ab503a86a"
      },
      "outputs": [
        {
          "name": "stdout",
          "output_type": "stream",
          "text": [
            "[[0.44008485 0.19254758 0.65707551]\n",
            " [0.06838026 0.43745833 0.22630033]\n",
            " [0.86801201 0.65430091 0.93617918]\n",
            " [0.72927673 0.61550749 0.87328398]\n",
            " [0.11083138 0.15582005 0.54587358]\n",
            " [0.80298985 0.89705779 0.18045105]\n",
            " [0.93153603 0.84343715 0.39326583]\n",
            " [0.29509183 0.49859358 0.32320668]\n",
            " [0.13389313 0.6620257  0.50146751]\n",
            " [0.69110925 0.97077549 0.11649333]]\n",
            "Values on the diagonal: [0.44008485 0.43745833 0.93617918]\n"
          ]
        }
      ],
      "source": [
        "# Not necessarily to be a square matrix\n",
        "arr = np.random.rand(10,3)\n",
        "print(arr)\n",
        "# Extract values on the diagonal\n",
        "print('Values on the diagonal: ' + str(np.diag(arr)))"
      ]
    },
    {
      "cell_type": "code",
      "execution_count": null,
      "metadata": {
        "id": "uoTKeepMQUfj",
        "outputId": "01be1527-8925-41af-865a-f762df70cdc6"
      },
      "outputs": [
        {
          "name": "stdout",
          "output_type": "stream",
          "text": [
            "[[1 0 0 0 0]\n",
            " [0 2 0 0 0]\n",
            " [0 0 3 0 0]\n",
            " [0 0 0 4 0]\n",
            " [0 0 0 0 5]]\n"
          ]
        }
      ],
      "source": [
        "# Create a matrix given values on the diagonal\n",
        "# All non-diagonal values set to zeros\n",
        "arr = np.diag([1,2,3,4,5])\n",
        "print(arr)"
      ]
    }
  ],
  "metadata": {
    "kernelspec": {
      "display_name": "Python 3",
      "language": "python",
      "name": "python3"
    },
    "language_info": {
      "codemirror_mode": {
        "name": "ipython",
        "version": 3
      },
      "file_extension": ".py",
      "mimetype": "text/x-python",
      "name": "python",
      "nbconvert_exporter": "python",
      "pygments_lexer": "ipython3",
      "version": "3.6.6"
    },
    "colab": {
      "provenance": [],
      "include_colab_link": true
    }
  },
  "nbformat": 4,
  "nbformat_minor": 0
}