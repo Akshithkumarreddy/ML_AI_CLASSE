{
  "cells": [
    {
      "cell_type": "markdown",
      "metadata": {
        "id": "view-in-github",
        "colab_type": "text"
      },
      "source": [
        "<a href=\"https://colab.research.google.com/github/Akshithkumarreddy/ML_AI_CLASSE/blob/main/6_Sort_an_Array.ipynb\" target=\"_parent\"><img src=\"https://colab.research.google.com/assets/colab-badge.svg\" alt=\"Open In Colab\"/></a>"
      ]
    },
    {
      "cell_type": "code",
      "execution_count": 1,
      "metadata": {
        "id": "fBouUjtv8_DX"
      },
      "outputs": [],
      "source": [
        "import numpy as np"
      ]
    },
    {
      "cell_type": "code",
      "execution_count": 2,
      "metadata": {
        "id": "D0Uvd4Sz8_DY",
        "outputId": "ebd5ad2c-cb62-417d-93aa-2643793a1490",
        "colab": {
          "base_uri": "https://localhost:8080/"
        }
      },
      "outputs": [
        {
          "output_type": "stream",
          "name": "stdout",
          "text": [
            "[[24 23 22 21 20]\n",
            " [19 18 17 16 15]\n",
            " [14 13 12 11 10]\n",
            " [ 9  8  7  6  5]\n",
            " [ 4  3  2  1  0]]\n"
          ]
        }
      ],
      "source": [
        "arr = np.array(range(24,-1,-1)).reshape(5,5)\n",
        "print(arr)"
      ]
    },
    {
      "cell_type": "markdown",
      "metadata": {
        "id": "GxUzX77N8_DZ"
      },
      "source": [
        "### sort an array along a specified axis"
      ]
    },
    {
      "cell_type": "code",
      "execution_count": 3,
      "metadata": {
        "id": "0aGpCDAB8_Da",
        "outputId": "2e3fa9eb-2d8e-46be-836a-1b23c6410f8f",
        "colab": {
          "base_uri": "https://localhost:8080/"
        }
      },
      "outputs": [
        {
          "output_type": "stream",
          "name": "stdout",
          "text": [
            "[[ 4  3  2  1  0]\n",
            " [ 9  8  7  6  5]\n",
            " [14 13 12 11 10]\n",
            " [19 18 17 16 15]\n",
            " [24 23 22 21 20]]\n",
            "[[24 23 22 21 20]\n",
            " [19 18 17 16 15]\n",
            " [14 13 12 11 10]\n",
            " [ 9  8  7  6  5]\n",
            " [ 4  3  2  1  0]]\n"
          ]
        }
      ],
      "source": [
        "# sort along the row and return a copy\n",
        "print(np.sort(arr, axis=0))\n",
        "print(arr)"
      ]
    },
    {
      "cell_type": "code",
      "execution_count": 4,
      "metadata": {
        "id": "lRxisDp98_Da",
        "outputId": "4c1d1f0d-89ef-4c9f-9308-6602e7d99183",
        "colab": {
          "base_uri": "https://localhost:8080/"
        }
      },
      "outputs": [
        {
          "output_type": "stream",
          "name": "stdout",
          "text": [
            "[[ 4  3  2  1  0]\n",
            " [ 9  8  7  6  5]\n",
            " [14 13 12 11 10]\n",
            " [19 18 17 16 15]\n",
            " [24 23 22 21 20]]\n",
            "[[24 23 22 21 20]\n",
            " [19 18 17 16 15]\n",
            " [14 13 12 11 10]\n",
            " [ 9  8  7  6  5]\n",
            " [ 4  3  2  1  0]]\n",
            "None\n"
          ]
        }
      ],
      "source": [
        "# sort along the row in place\n",
        "print(np.sort(arr,axis=0))\n",
        "print(arr)\n",
        "print(arr.sort(axis=0))"
      ]
    },
    {
      "cell_type": "code",
      "execution_count": 5,
      "metadata": {
        "id": "0wm3nm3m8_Da",
        "outputId": "663a5586-420f-4cbb-f98d-de89a4b4840b",
        "colab": {
          "base_uri": "https://localhost:8080/"
        }
      },
      "outputs": [
        {
          "output_type": "stream",
          "name": "stdout",
          "text": [
            "[[ 0  1  2  3  4]\n",
            " [ 5  6  7  8  9]\n",
            " [10 11 12 13 14]\n",
            " [15 16 17 18 19]\n",
            " [20 21 22 23 24]]\n"
          ]
        }
      ],
      "source": [
        "# sort along the column and return a copy\n",
        "print(np.sort(arr, axis=1))"
      ]
    },
    {
      "cell_type": "code",
      "execution_count": 6,
      "metadata": {
        "id": "YgnEhfso8_Db",
        "outputId": "5f03593e-8389-4995-f5d0-98f7e7d45c57",
        "colab": {
          "base_uri": "https://localhost:8080/"
        }
      },
      "outputs": [
        {
          "output_type": "stream",
          "name": "stdout",
          "text": [
            "[[ 0  1  2  3  4]\n",
            " [ 5  6  7  8  9]\n",
            " [10 11 12 13 14]\n",
            " [15 16 17 18 19]\n",
            " [20 21 22 23 24]]\n"
          ]
        }
      ],
      "source": [
        "# sort along the column in place\n",
        "arr.sort(axis=1)\n",
        "print(arr)"
      ]
    },
    {
      "cell_type": "markdown",
      "metadata": {
        "id": "pLPoYOFB8_Db"
      },
      "source": [
        "### compute the indices that would sort an array along a specified axis"
      ]
    },
    {
      "cell_type": "code",
      "execution_count": 7,
      "metadata": {
        "id": "p1BoDm7M8_Db",
        "outputId": "b1995c7e-6e15-4f4f-db17-d681635b3913",
        "colab": {
          "base_uri": "https://localhost:8080/"
        }
      },
      "outputs": [
        {
          "output_type": "stream",
          "name": "stdout",
          "text": [
            "[[85 97 97  3 25]\n",
            " [95 31 81 29 95]\n",
            " [14 88 89 91 38]\n",
            " [76 88 55 98 98]\n",
            " [68  9 96 50  1]]\n"
          ]
        }
      ],
      "source": [
        "arr = np.random.randint(1,100,(5,5))\n",
        "print(arr)"
      ]
    },
    {
      "cell_type": "code",
      "execution_count": 8,
      "metadata": {
        "id": "LTx6-DyI8_Db",
        "outputId": "d43defb4-b7c4-4a85-faa1-383036c43ac5",
        "colab": {
          "base_uri": "https://localhost:8080/"
        }
      },
      "outputs": [
        {
          "output_type": "stream",
          "name": "stdout",
          "text": [
            "[[2 4 3 0 4]\n",
            " [4 1 1 1 0]\n",
            " [3 2 2 4 2]\n",
            " [0 3 4 2 1]\n",
            " [1 0 0 3 3]]\n"
          ]
        }
      ],
      "source": [
        "# along the row\n",
        "print(np.argsort(arr, axis=0))"
      ]
    },
    {
      "cell_type": "code",
      "execution_count": 9,
      "metadata": {
        "id": "aO9i3eX_8_Db",
        "outputId": "10b841b3-69c6-4eab-f270-c106688a9e56",
        "colab": {
          "base_uri": "https://localhost:8080/"
        }
      },
      "outputs": [
        {
          "output_type": "stream",
          "name": "stdout",
          "text": [
            "[[3 4 0 1 2]\n",
            " [3 1 2 0 4]\n",
            " [0 4 1 2 3]\n",
            " [2 0 1 3 4]\n",
            " [4 1 3 0 2]]\n"
          ]
        }
      ],
      "source": [
        "# along the column\n",
        "print(np.argsort(arr, axis=1))"
      ]
    },
    {
      "cell_type": "code",
      "execution_count": 10,
      "metadata": {
        "id": "6QsDFkha8_Dc",
        "outputId": "c26e9d48-e188-40aa-abe4-01c1d26eaaf2",
        "colab": {
          "base_uri": "https://localhost:8080/"
        }
      },
      "outputs": [
        {
          "output_type": "stream",
          "name": "stdout",
          "text": [
            "[24  3 21 10  4  8  6 14 23 17 20 15  7  0 11 16 12 13  9  5 22  2  1 18\n",
            " 19]\n"
          ]
        }
      ],
      "source": [
        "# if axis=None, return the indices of a flattened array\n",
        "print(np.argsort(arr, axis=None))"
      ]
    }
  ],
  "metadata": {
    "kernelspec": {
      "display_name": "Python 3",
      "language": "python",
      "name": "python3"
    },
    "language_info": {
      "codemirror_mode": {
        "name": "ipython",
        "version": 3
      },
      "file_extension": ".py",
      "mimetype": "text/x-python",
      "name": "python",
      "nbconvert_exporter": "python",
      "pygments_lexer": "ipython3",
      "version": "3.6.6"
    },
    "colab": {
      "provenance": [],
      "include_colab_link": true
    }
  },
  "nbformat": 4,
  "nbformat_minor": 0
}